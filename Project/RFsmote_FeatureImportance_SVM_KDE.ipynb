{
  "nbformat": 4,
  "nbformat_minor": 0,
  "metadata": {
    "colab": {
      "name": "RFsmote_FeatureImportance_SVM_KDE.ipynb",
      "provenance": [],
      "collapsed_sections": [
        "1xGSByoA5tAv"
      ]
    },
    "kernelspec": {
      "display_name": "Python 3",
      "name": "python3"
    },
    "language_info": {
      "name": "python"
    }
  },
  "cells": [
    {
      "cell_type": "markdown",
      "metadata": {
        "id": "1xGSByoA5tAv"
      },
      "source": [
        "### Set up"
      ]
    },
    {
      "cell_type": "markdown",
      "metadata": {
        "id": "h67wCYl5pbfT"
      },
      "source": [
        "Upload your kaggle.json API token file(You can get it from your accounts page)"
      ]
    },
    {
      "cell_type": "code",
      "metadata": {
        "colab": {
          "resources": {
            "http://localhost:8080/nbextensions/google.colab/files.js": {
              "data": "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",
              "ok": true,
              "headers": [
                [
                  "content-type",
                  "application/javascript"
                ]
              ],
              "status": 200,
              "status_text": ""
            }
          },
          "base_uri": "https://localhost:8080/",
          "height": 91
        },
        "id": "jLIULOEe4HKQ",
        "outputId": "c2ba893c-3657-4872-b15d-e74e7fc12d08"
      },
      "source": [
        "from google.colab import files\n",
        "\n",
        "files.upload()"
      ],
      "execution_count": null,
      "outputs": [
        {
          "output_type": "display_data",
          "data": {
            "text/html": [
              "\n",
              "     <input type=\"file\" id=\"files-969dc118-edc5-4bec-8842-29c31adf70e5\" name=\"files[]\" multiple disabled\n",
              "        style=\"border:none\" />\n",
              "     <output id=\"result-969dc118-edc5-4bec-8842-29c31adf70e5\">\n",
              "      Upload widget is only available when the cell has been executed in the\n",
              "      current browser session. Please rerun this cell to enable.\n",
              "      </output>\n",
              "      <script src=\"/nbextensions/google.colab/files.js\"></script> "
            ],
            "text/plain": [
              "<IPython.core.display.HTML object>"
            ]
          },
          "metadata": {}
        },
        {
          "output_type": "stream",
          "name": "stdout",
          "text": [
            "Saving kaggle.json to kaggle (5).json\n"
          ]
        },
        {
          "output_type": "execute_result",
          "data": {
            "text/plain": [
              "{'kaggle.json': b'{\"username\":\"zotako\",\"key\":\"cd7d7e8bbf688035e9cbe2ac09c40e5f\"}'}"
            ]
          },
          "metadata": {},
          "execution_count": 41
        }
      ]
    },
    {
      "cell_type": "code",
      "metadata": {
        "colab": {
          "base_uri": "https://localhost:8080/"
        },
        "id": "zp_6D9sKe91G",
        "outputId": "9d06ad03-013b-495e-9101-a366fbcdedb7"
      },
      "source": [
        "!pip3 install geopandas"
      ],
      "execution_count": null,
      "outputs": [
        {
          "output_type": "stream",
          "name": "stdout",
          "text": [
            "Requirement already satisfied: geopandas in /usr/local/lib/python3.7/dist-packages (0.10.2)\n",
            "Requirement already satisfied: pyproj>=2.2.0 in /usr/local/lib/python3.7/dist-packages (from geopandas) (3.2.1)\n",
            "Requirement already satisfied: pandas>=0.25.0 in /usr/local/lib/python3.7/dist-packages (from geopandas) (1.1.5)\n",
            "Requirement already satisfied: shapely>=1.6 in /usr/local/lib/python3.7/dist-packages (from geopandas) (1.8.0)\n",
            "Requirement already satisfied: fiona>=1.8 in /usr/local/lib/python3.7/dist-packages (from geopandas) (1.8.20)\n",
            "Requirement already satisfied: cligj>=0.5 in /usr/local/lib/python3.7/dist-packages (from fiona>=1.8->geopandas) (0.7.2)\n",
            "Requirement already satisfied: munch in /usr/local/lib/python3.7/dist-packages (from fiona>=1.8->geopandas) (2.5.0)\n",
            "Requirement already satisfied: click>=4.0 in /usr/local/lib/python3.7/dist-packages (from fiona>=1.8->geopandas) (7.1.2)\n",
            "Requirement already satisfied: setuptools in /usr/local/lib/python3.7/dist-packages (from fiona>=1.8->geopandas) (57.4.0)\n",
            "Requirement already satisfied: click-plugins>=1.0 in /usr/local/lib/python3.7/dist-packages (from fiona>=1.8->geopandas) (1.1.1)\n",
            "Requirement already satisfied: attrs>=17 in /usr/local/lib/python3.7/dist-packages (from fiona>=1.8->geopandas) (21.2.0)\n",
            "Requirement already satisfied: six>=1.7 in /usr/local/lib/python3.7/dist-packages (from fiona>=1.8->geopandas) (1.15.0)\n",
            "Requirement already satisfied: certifi in /usr/local/lib/python3.7/dist-packages (from fiona>=1.8->geopandas) (2021.10.8)\n",
            "Requirement already satisfied: python-dateutil>=2.7.3 in /usr/local/lib/python3.7/dist-packages (from pandas>=0.25.0->geopandas) (2.8.2)\n",
            "Requirement already satisfied: numpy>=1.15.4 in /usr/local/lib/python3.7/dist-packages (from pandas>=0.25.0->geopandas) (1.19.5)\n",
            "Requirement already satisfied: pytz>=2017.2 in /usr/local/lib/python3.7/dist-packages (from pandas>=0.25.0->geopandas) (2018.9)\n"
          ]
        }
      ]
    },
    {
      "cell_type": "code",
      "metadata": {
        "colab": {
          "base_uri": "https://localhost:8080/"
        },
        "id": "ukKVmfUQ6cjc",
        "outputId": "633fc320-c547-4b66-d807-0cf1e37d7a36"
      },
      "source": [
        "!pip install cartopy"
      ],
      "execution_count": null,
      "outputs": [
        {
          "output_type": "stream",
          "name": "stdout",
          "text": [
            "Requirement already satisfied: cartopy in /usr/local/lib/python3.7/dist-packages (0.19.0.post1)\n",
            "Requirement already satisfied: pyshp>=2 in /usr/local/lib/python3.7/dist-packages (from cartopy) (2.1.3)\n",
            "Requirement already satisfied: shapely>=1.5.6 in /usr/local/lib/python3.7/dist-packages (from cartopy) (1.8.0)\n",
            "Requirement already satisfied: numpy>=1.13.3 in /usr/local/lib/python3.7/dist-packages (from cartopy) (1.19.5)\n"
          ]
        }
      ]
    },
    {
      "cell_type": "code",
      "metadata": {
        "id": "piVTo6C4kwjl"
      },
      "source": [
        "import pandas as pd\n",
        "import numpy as np\n"
      ],
      "execution_count": null,
      "outputs": []
    },
    {
      "cell_type": "code",
      "metadata": {
        "id": "qsr74_-qmMUm"
      },
      "source": [
        "import geopandas as gpd\n",
        "import seaborn as sns\n",
        "import matplotlib.pyplot as plt\n"
      ],
      "execution_count": null,
      "outputs": []
    },
    {
      "cell_type": "code",
      "metadata": {
        "colab": {
          "base_uri": "https://localhost:8080/"
        },
        "id": "ekNoTFUutPZ7",
        "outputId": "a5e4e0d3-87ee-4ca2-b2a5-d7f94d75996a"
      },
      "source": [
        "!pip3 install mplleaflet"
      ],
      "execution_count": null,
      "outputs": [
        {
          "output_type": "stream",
          "name": "stdout",
          "text": [
            "Requirement already satisfied: mplleaflet in /usr/local/lib/python3.7/dist-packages (0.0.5)\n",
            "Requirement already satisfied: jinja2 in /usr/local/lib/python3.7/dist-packages (from mplleaflet) (2.11.3)\n",
            "Requirement already satisfied: six in /usr/local/lib/python3.7/dist-packages (from mplleaflet) (1.15.0)\n",
            "Requirement already satisfied: MarkupSafe>=0.23 in /usr/local/lib/python3.7/dist-packages (from jinja2->mplleaflet) (2.0.1)\n"
          ]
        }
      ]
    },
    {
      "cell_type": "code",
      "metadata": {
        "id": "mPRZnneQtYDe"
      },
      "source": [
        "import mplleaflet as mpll"
      ],
      "execution_count": null,
      "outputs": []
    },
    {
      "cell_type": "code",
      "metadata": {
        "id": "rhcy0cxI4Dc5"
      },
      "source": [
        "! pip install -q kaggle"
      ],
      "execution_count": null,
      "outputs": []
    },
    {
      "cell_type": "code",
      "metadata": {
        "id": "h0Iap-wp4VWu",
        "colab": {
          "base_uri": "https://localhost:8080/"
        },
        "outputId": "ff5b2782-ff3b-4373-d509-5ae626141359"
      },
      "source": [
        "! mkdir ~/.kaggle"
      ],
      "execution_count": null,
      "outputs": [
        {
          "output_type": "stream",
          "name": "stdout",
          "text": [
            "mkdir: cannot create directory ‘/root/.kaggle’: File exists\n"
          ]
        }
      ]
    },
    {
      "cell_type": "code",
      "metadata": {
        "id": "UKDiV_cS4Wrj"
      },
      "source": [
        "! cp kaggle.json ~/.kaggle/"
      ],
      "execution_count": null,
      "outputs": []
    },
    {
      "cell_type": "code",
      "metadata": {
        "id": "1DrUIO_f4bMZ"
      },
      "source": [
        "! chmod 600 ~/.kaggle/kaggle.json"
      ],
      "execution_count": null,
      "outputs": []
    },
    {
      "cell_type": "code",
      "metadata": {
        "colab": {
          "base_uri": "https://localhost:8080/"
        },
        "id": "LK6BUd_Q4eBT",
        "outputId": "37fbdb8a-e8f7-41d1-d077-0f93e3e7aa5c"
      },
      "source": [
        "! kaggle datasets list"
      ],
      "execution_count": null,
      "outputs": [
        {
          "output_type": "stream",
          "name": "stdout",
          "text": [
            "Warning: Looks like you're using an outdated API Version, please consider updating (server 1.5.12 / client 1.5.4)\n",
            "ref                                                         title                                              size  lastUpdated          downloadCount  \n",
            "----------------------------------------------------------  ------------------------------------------------  -----  -------------------  -------------  \n",
            "gpreda/reddit-vaccine-myths                                 Reddit Vaccine Myths                              237KB  2021-12-03 07:25:55          16965  \n",
            "crowww/a-large-scale-fish-dataset                           A Large Scale Fish Dataset                          3GB  2021-04-28 17:03:01          10256  \n",
            "imsparsh/musicnet-dataset                                   MusicNet Dataset                                   22GB  2021-02-18 14:12:19           4747  \n",
            "dhruvildave/wikibooks-dataset                               Wikibooks Dataset                                   2GB  2021-10-22 10:48:21           3731  \n",
            "promptcloud/careerbuilder-job-listing-2020                  Careerbuilder Job Listing 2020                     42MB  2021-03-05 06:59:52           2904  \n",
            "fatiimaezzahra/famous-iconic-women                          Famous Iconic Women                               838MB  2021-02-28 14:56:00           2031  \n",
            "nickuzmenkov/nih-chest-xrays-tfrecords                      NIH Chest X-rays TFRecords                         11GB  2021-03-09 04:49:23           1755  \n",
            "mathurinache/twitter-edge-nodes                             Twitter Edge Nodes                                342MB  2021-03-08 06:43:04           1388  \n",
            "coloradokb/dandelionimages                                  DandelionImages                                     4GB  2021-02-19 20:03:47           1072  \n",
            "mathurinache/the-lj-speech-dataset                          The LJ Speech Dataset                               3GB  2021-02-15 09:19:54            530  \n",
            "simiotic/github-code-snippets                               GitHub Code Snippets                                7GB  2021-03-03 11:34:39            529  \n",
            "alsgroup/end-als                                            End ALS Kaggle Challenge                           12GB  2021-04-08 12:16:37           1136  \n",
            "imsparsh/accentdb-core-extended                             AccentDB - Core & Extended                          6GB  2021-02-17 14:22:54            196  \n",
            "stuartjames/lights                                          LightS: Light Specularity Dataset                  18GB  2021-02-18 14:32:26            226  \n",
            "nickuzmenkov/ranzcr-clip-kfold-tfrecords                    RANZCR CLiP KFold TFRecords                         2GB  2021-02-21 13:29:51            169  \n",
            "landrykezebou/lvzhdr-tone-mapping-benchmark-dataset-tmonet  LVZ-HDR Tone Mapping Benchmark Dataset (TMO-Net)   24GB  2021-03-01 05:03:40            237  \n",
            "datasnaek/youtube-new                                       Trending YouTube Video Statistics                 201MB  2019-06-03 00:56:47         160251  \n",
            "zynicide/wine-reviews                                       Wine Reviews                                       51MB  2017-11-27 17:08:04         150105  \n",
            "residentmario/ramen-ratings                                 Ramen Ratings                                      40KB  2018-01-11 16:04:39          30703  \n",
            "datasnaek/chess                                             Chess Game Dataset (Lichess)                        3MB  2017-09-04 03:09:09          25911  \n"
          ]
        }
      ]
    },
    {
      "cell_type": "code",
      "metadata": {
        "colab": {
          "base_uri": "https://localhost:8080/"
        },
        "id": "MxQu_EzB5GBX",
        "outputId": "1cc8ab48-f331-46e4-e6af-da819300306a"
      },
      "source": [
        "!kaggle datasets download -d tsiaras/uk-road-safety-accidents-and-vehicles"
      ],
      "execution_count": null,
      "outputs": [
        {
          "output_type": "stream",
          "name": "stdout",
          "text": [
            "uk-road-safety-accidents-and-vehicles.zip: Skipping, found more recently modified local copy (use --force to force download)\n"
          ]
        }
      ]
    },
    {
      "cell_type": "code",
      "metadata": {
        "colab": {
          "base_uri": "https://localhost:8080/"
        },
        "id": "CpGogg075K4l",
        "outputId": "9fca3c4b-5b4a-4fe4-86d6-19a95cf1a7a6"
      },
      "source": [
        "! mkdir train\n",
        "! unzip uk-road-safety-accidents-and-vehicles.zip -d train"
      ],
      "execution_count": null,
      "outputs": [
        {
          "output_type": "stream",
          "name": "stdout",
          "text": [
            "mkdir: cannot create directory ‘train’: File exists\n",
            "Archive:  uk-road-safety-accidents-and-vehicles.zip\n",
            "replace train/Accident_Information.csv? [y]es, [n]o, [A]ll, [N]one, [r]ename: n\n",
            "replace train/Vehicle_Information.csv? [y]es, [n]o, [A]ll, [N]one, [r]ename: n\n"
          ]
        }
      ]
    },
    {
      "cell_type": "code",
      "metadata": {
        "colab": {
          "base_uri": "https://localhost:8080/"
        },
        "id": "4ZTbRPdmuGOy",
        "outputId": "aec51556-c24d-4390-c404-2648eb262d13"
      },
      "source": [
        "import os\n",
        "for dirname, _, filenames in os.walk('train'):\n",
        "    for filename in filenames:\n",
        "        print(os.path.join(dirname, filename))\n"
      ],
      "execution_count": null,
      "outputs": [
        {
          "output_type": "stream",
          "name": "stdout",
          "text": [
            "train/Vehicle_Information.csv\n",
            "train/Accident_Information.csv\n"
          ]
        }
      ]
    },
    {
      "cell_type": "code",
      "metadata": {
        "colab": {
          "base_uri": "https://localhost:8080/"
        },
        "id": "GSgumlMturld",
        "outputId": "c59e536b-46f8-40b0-a4b7-f375e3577fc7"
      },
      "source": [
        "accidents=pd.read_csv(\"train/Accident_Information.csv\")"
      ],
      "execution_count": null,
      "outputs": [
        {
          "output_type": "stream",
          "name": "stderr",
          "text": [
            "/usr/local/lib/python3.7/dist-packages/IPython/core/interactiveshell.py:2718: DtypeWarning: Columns (0) have mixed types.Specify dtype option on import or set low_memory=False.\n",
            "  interactivity=interactivity, compiler=compiler, result=result)\n"
          ]
        }
      ]
    },
    {
      "cell_type": "markdown",
      "metadata": {
        "id": "jw7UulMS6d5j"
      },
      "source": [
        "### Initial plots"
      ]
    },
    {
      "cell_type": "code",
      "metadata": {
        "colab": {
          "base_uri": "https://localhost:8080/",
          "height": 441
        },
        "id": "bj6otCFr6fkY",
        "outputId": "3b657321-9490-4ffe-994b-14384b7891e0"
      },
      "source": [
        "sns.jointplot(x=\"Longitude\", y=\"Latitude\", data=accidents);"
      ],
      "execution_count": null,
      "outputs": [
        {
          "output_type": "display_data",
          "data": {
            "image/png": "[encoded data removed]",
            "text/plain": [
              "<Figure size 432x432 with 3 Axes>"
            ]
          },
          "metadata": {
            "needs_background": "light"
          }
        }
      ]
    },
    {
      "cell_type": "code",
      "metadata": {
        "id": "u9dcEc4c7WCz",
        "colab": {
          "base_uri": "https://localhost:8080/",
          "height": 1000
        },
        "outputId": "bed5dac4-363e-4bc7-806e-3fe1c5e6a970"
      },
      "source": [
        "accidents['Local_Authority_(Highway)'].value_counts().to_frame().head(50)"
      ],
      "execution_count": null,
      "outputs": [
        {
          "output_type": "execute_result",
          "data": {
            "text/html": [
              "<div>\n",
              "<style scoped>\n",
              "    .dataframe tbody tr th:only-of-type {\n",
              "        vertical-align: middle;\n",
              "    }\n",
              "\n",
              "    .dataframe tbody tr th {\n",
              "        vertical-align: top;\n",
              "    }\n",
              "\n",
              "    .dataframe thead th {\n",
              "        text-align: right;\n",
              "    }\n",
              "</style>\n",
              "<table border=\"1\" class=\"dataframe\">\n",
              "  <thead>\n",
              "    <tr style=\"text-align: right;\">\n",
              "      <th></th>\n",
              "      <th>Local_Authority_(Highway)</th>\n",
              "    </tr>\n",
              "  </thead>\n",
              "  <tbody>\n",
              "    <tr>\n",
              "      <th>Kent</th>\n",
              "      <td>57801</td>\n",
              "    </tr>\n",
              "    <tr>\n",
              "      <th>Surrey</th>\n",
              "      <td>52676</td>\n",
              "    </tr>\n",
              "    <tr>\n",
              "      <th>Lancashire</th>\n",
              "      <td>44968</td>\n",
              "    </tr>\n",
              "    <tr>\n",
              "      <th>Essex</th>\n",
              "      <td>44161</td>\n",
              "    </tr>\n",
              "    <tr>\n",
              "      <th>Hampshire</th>\n",
              "      <td>41600</td>\n",
              "    </tr>\n",
              "    <tr>\n",
              "      <th>Birmingham</th>\n",
              "      <td>39662</td>\n",
              "    </tr>\n",
              "    <tr>\n",
              "      <th>Hertfordshire</th>\n",
              "      <td>37419</td>\n",
              "    </tr>\n",
              "    <tr>\n",
              "      <th>Staffordshire</th>\n",
              "      <td>31083</td>\n",
              "    </tr>\n",
              "    <tr>\n",
              "      <th>Lincolnshire</th>\n",
              "      <td>29606</td>\n",
              "    </tr>\n",
              "    <tr>\n",
              "      <th>Nottinghamshire</th>\n",
              "      <td>27488</td>\n",
              "    </tr>\n",
              "    <tr>\n",
              "      <th>Leeds</th>\n",
              "      <td>27334</td>\n",
              "    </tr>\n",
              "    <tr>\n",
              "      <th>West Sussex</th>\n",
              "      <td>26886</td>\n",
              "    </tr>\n",
              "    <tr>\n",
              "      <th>Norfolk</th>\n",
              "      <td>25922</td>\n",
              "    </tr>\n",
              "    <tr>\n",
              "      <th>Devon</th>\n",
              "      <td>25729</td>\n",
              "    </tr>\n",
              "    <tr>\n",
              "      <th>Derbyshire</th>\n",
              "      <td>25674</td>\n",
              "    </tr>\n",
              "    <tr>\n",
              "      <th>Suffolk</th>\n",
              "      <td>23966</td>\n",
              "    </tr>\n",
              "    <tr>\n",
              "      <th>Cambridgeshire</th>\n",
              "      <td>23532</td>\n",
              "    </tr>\n",
              "    <tr>\n",
              "      <th>North Yorkshire</th>\n",
              "      <td>22756</td>\n",
              "    </tr>\n",
              "    <tr>\n",
              "      <th>Oxfordshire</th>\n",
              "      <td>22367</td>\n",
              "    </tr>\n",
              "    <tr>\n",
              "      <th>Warwickshire</th>\n",
              "      <td>21136</td>\n",
              "    </tr>\n",
              "    <tr>\n",
              "      <th>Westminster</th>\n",
              "      <td>19774</td>\n",
              "    </tr>\n",
              "    <tr>\n",
              "      <th>Leicestershire</th>\n",
              "      <td>19667</td>\n",
              "    </tr>\n",
              "    <tr>\n",
              "      <th>Cornwall</th>\n",
              "      <td>19248</td>\n",
              "    </tr>\n",
              "    <tr>\n",
              "      <th>East Sussex</th>\n",
              "      <td>18888</td>\n",
              "    </tr>\n",
              "    <tr>\n",
              "      <th>Cumbria</th>\n",
              "      <td>18667</td>\n",
              "    </tr>\n",
              "    <tr>\n",
              "      <th>Glasgow City</th>\n",
              "      <td>18555</td>\n",
              "    </tr>\n",
              "    <tr>\n",
              "      <th>Northamptonshire</th>\n",
              "      <td>18277</td>\n",
              "    </tr>\n",
              "    <tr>\n",
              "      <th>Bradford</th>\n",
              "      <td>18147</td>\n",
              "    </tr>\n",
              "    <tr>\n",
              "      <th>Manchester</th>\n",
              "      <td>18113</td>\n",
              "    </tr>\n",
              "    <tr>\n",
              "      <th>Somerset</th>\n",
              "      <td>17347</td>\n",
              "    </tr>\n",
              "    <tr>\n",
              "      <th>Sheffield</th>\n",
              "      <td>17321</td>\n",
              "    </tr>\n",
              "    <tr>\n",
              "      <th>Liverpool</th>\n",
              "      <td>17281</td>\n",
              "    </tr>\n",
              "    <tr>\n",
              "      <th>Buckinghamshire</th>\n",
              "      <td>16449</td>\n",
              "    </tr>\n",
              "    <tr>\n",
              "      <th>Worcestershire</th>\n",
              "      <td>16323</td>\n",
              "    </tr>\n",
              "    <tr>\n",
              "      <th>Edinburgh, City of</th>\n",
              "      <td>15774</td>\n",
              "    </tr>\n",
              "    <tr>\n",
              "      <th>Gloucestershire</th>\n",
              "      <td>15299</td>\n",
              "    </tr>\n",
              "    <tr>\n",
              "      <th>Lambeth</th>\n",
              "      <td>14943</td>\n",
              "    </tr>\n",
              "    <tr>\n",
              "      <th>Bristol, City of</th>\n",
              "      <td>14672</td>\n",
              "    </tr>\n",
              "    <tr>\n",
              "      <th>County Durham</th>\n",
              "      <td>14454</td>\n",
              "    </tr>\n",
              "    <tr>\n",
              "      <th>Wiltshire</th>\n",
              "      <td>14252</td>\n",
              "    </tr>\n",
              "    <tr>\n",
              "      <th>Cheshire East</th>\n",
              "      <td>14132</td>\n",
              "    </tr>\n",
              "    <tr>\n",
              "      <th>Dorset</th>\n",
              "      <td>13835</td>\n",
              "    </tr>\n",
              "    <tr>\n",
              "      <th>Barnet</th>\n",
              "      <td>13799</td>\n",
              "    </tr>\n",
              "    <tr>\n",
              "      <th>Kirklees</th>\n",
              "      <td>13439</td>\n",
              "    </tr>\n",
              "    <tr>\n",
              "      <th>Southwark</th>\n",
              "      <td>12812</td>\n",
              "    </tr>\n",
              "    <tr>\n",
              "      <th>Ealing</th>\n",
              "      <td>12413</td>\n",
              "    </tr>\n",
              "    <tr>\n",
              "      <th>Nottingham</th>\n",
              "      <td>12361</td>\n",
              "    </tr>\n",
              "    <tr>\n",
              "      <th>Cheshire West and Chester</th>\n",
              "      <td>12336</td>\n",
              "    </tr>\n",
              "    <tr>\n",
              "      <th>Croydon</th>\n",
              "      <td>12331</td>\n",
              "    </tr>\n",
              "    <tr>\n",
              "      <th>Leicester</th>\n",
              "      <td>12304</td>\n",
              "    </tr>\n",
              "  </tbody>\n",
              "</table>\n",
              "</div>"
            ],
            "text/plain": [
              "                           Local_Authority_(Highway)\n",
              "Kent                                           57801\n",
              "Surrey                                         52676\n",
              "Lancashire                                     44968\n",
              "Essex                                          44161\n",
              "Hampshire                                      41600\n",
              "Birmingham                                     39662\n",
              "Hertfordshire                                  37419\n",
              "Staffordshire                                  31083\n",
              "Lincolnshire                                   29606\n",
              "Nottinghamshire                                27488\n",
              "Leeds                                          27334\n",
              "West Sussex                                    26886\n",
              "Norfolk                                        25922\n",
              "Devon                                          25729\n",
              "Derbyshire                                     25674\n",
              "Suffolk                                        23966\n",
              "Cambridgeshire                                 23532\n",
              "North Yorkshire                                22756\n",
              "Oxfordshire                                    22367\n",
              "Warwickshire                                   21136\n",
              "Westminster                                    19774\n",
              "Leicestershire                                 19667\n",
              "Cornwall                                       19248\n",
              "East Sussex                                    18888\n",
              "Cumbria                                        18667\n",
              "Glasgow City                                   18555\n",
              "Northamptonshire                               18277\n",
              "Bradford                                       18147\n",
              "Manchester                                     18113\n",
              "Somerset                                       17347\n",
              "Sheffield                                      17321\n",
              "Liverpool                                      17281\n",
              "Buckinghamshire                                16449\n",
              "Worcestershire                                 16323\n",
              "Edinburgh, City of                             15774\n",
              "Gloucestershire                                15299\n",
              "Lambeth                                        14943\n",
              "Bristol, City of                               14672\n",
              "County Durham                                  14454\n",
              "Wiltshire                                      14252\n",
              "Cheshire East                                  14132\n",
              "Dorset                                         13835\n",
              "Barnet                                         13799\n",
              "Kirklees                                       13439\n",
              "Southwark                                      12812\n",
              "Ealing                                         12413\n",
              "Nottingham                                     12361\n",
              "Cheshire West and Chester                      12336\n",
              "Croydon                                        12331\n",
              "Leicester                                      12304"
            ]
          },
          "metadata": {},
          "execution_count": 58
        }
      ]
    },
    {
      "cell_type": "code",
      "metadata": {
        "id": "QAyOR-qS7vBS"
      },
      "source": [
        "accidents.dropna(subset=['Latitude','Longitude'], inplace=True)"
      ],
      "execution_count": null,
      "outputs": []
    },
    {
      "cell_type": "code",
      "metadata": {
        "colab": {
          "base_uri": "https://localhost:8080/"
        },
        "id": "gdhCmolY9tqC",
        "outputId": "6902ba0a-ce7f-4ba1-e02e-ea5678c2f588"
      },
      "source": [
        "accidents.shape"
      ],
      "execution_count": null,
      "outputs": [
        {
          "output_type": "execute_result",
          "data": {
            "text/plain": [
              "(2047081, 34)"
            ]
          },
          "metadata": {},
          "execution_count": 60
        }
      ]
    },
    {
      "cell_type": "markdown",
      "metadata": {
        "id": "bHFFrPVyu8YL"
      },
      "source": [
        "KDE Plot of East Sussex for the year 2005"
      ]
    },
    {
      "cell_type": "code",
      "metadata": {
        "id": "KnXWCKRH91Cf"
      },
      "source": [
        "sus_acc = accidents.loc[accidents['Local_Authority_(Highway)'] == 'East Sussex']"
      ],
      "execution_count": null,
      "outputs": []
    },
    {
      "cell_type": "code",
      "metadata": {
        "colab": {
          "base_uri": "https://localhost:8080/",
          "height": 338
        },
        "id": "oU-waqsx7CLG",
        "outputId": "c9b7f052-48db-454f-f7b6-b858be8649d6"
      },
      "source": [
        "df = sus_acc[sus_acc['Year']==2005]\n",
        "ground = sns.kdeplot(df['Latitude'], df['Longitude'], shade=True, cmap='hot', cbar=True);"
      ],
      "execution_count": null,
      "outputs": [
        {
          "output_type": "stream",
          "name": "stderr",
          "text": [
            "/usr/local/lib/python3.7/dist-packages/seaborn/_decorators.py:43: FutureWarning: Pass the following variable as a keyword arg: y. From version 0.12, the only valid positional argument will be `data`, and passing other arguments without an explicit keyword will result in an error or misinterpretation.\n",
            "  FutureWarning\n"
          ]
        },
        {
          "output_type": "display_data",
          "data": {
            "image/png": "[encoded data removed]",
            "text/plain": [
              "<Figure size 432x288 with 2 Axes>"
            ]
          },
          "metadata": {
            "needs_background": "light"
          }
        }
      ]
    },
    {
      "cell_type": "markdown",
      "metadata": {
        "id": "U-DIF7-PSMC3"
      },
      "source": [
        "### Weighted"
      ]
    },
    {
      "cell_type": "code",
      "metadata": {
        "id": "V3EUvbq8-qI0"
      },
      "source": [
        "accidents.loc[accidents['Accident_Severity'] == 'Fatal', 'w1'] = 81\n",
        "accidents.loc[accidents['Accident_Severity'] == 'Serious', 'w1'] = 16\n",
        "accidents.loc[accidents['Accident_Severity'] == 'Slight', 'w1'] = 1"
      ],
      "execution_count": null,
      "outputs": []
    },
    {
      "cell_type": "markdown",
      "metadata": {
        "id": "FV7T490G49tZ"
      },
      "source": [
        "**East Sussex KDE Plot**"
      ]
    },
    {
      "cell_type": "code",
      "metadata": {
        "id": "aDxR6saFyGOs"
      },
      "source": [
        "sus_acc = accidents.loc[accidents['Local_Authority_(Highway)'] == 'East Sussex']"
      ],
      "execution_count": null,
      "outputs": []
    },
    {
      "cell_type": "code",
      "metadata": {
        "colab": {
          "base_uri": "https://localhost:8080/",
          "height": 338
        },
        "id": "Lc1z_5DsWnAC",
        "outputId": "7619b37c-237e-440c-8067-f2d1a33e3adf"
      },
      "source": [
        "sns.kdeplot(sus_acc['Latitude'], sus_acc['Longitude'], shade=True, cmap='hot', weights=sus_acc['w1'], cbar=True);"
      ],
      "execution_count": null,
      "outputs": [
        {
          "output_type": "stream",
          "name": "stderr",
          "text": [
            "/usr/local/lib/python3.7/dist-packages/seaborn/_decorators.py:43: FutureWarning: Pass the following variable as a keyword arg: y. From version 0.12, the only valid positional argument will be `data`, and passing other arguments without an explicit keyword will result in an error or misinterpretation.\n",
            "  FutureWarning\n"
          ]
        },
        {
          "output_type": "display_data",
          "data": {
            "image/png": "[encoded data removed]",
            "text/plain": [
              "<Figure size 432x288 with 2 Axes>"
            ]
          },
          "metadata": {
            "needs_background": "light"
          }
        }
      ]
    },
    {
      "cell_type": "code",
      "metadata": {
        "colab": {
          "base_uri": "https://localhost:8080/",
          "height": 334
        },
        "id": "_bmmV_OvCfFo",
        "outputId": "b6fb522f-bb1b-4c39-ff3e-d59792a1d9c2"
      },
      "source": [
        "df = sus_acc[sus_acc['Year']==2005]\n",
        "sns.kdeplot(df['Latitude'], df['Longitude'], shade=True, cmap='hot', weights=df['w1']);"
      ],
      "execution_count": null,
      "outputs": [
        {
          "output_type": "stream",
          "name": "stderr",
          "text": [
            "/usr/local/lib/python3.7/dist-packages/seaborn/_decorators.py:43: FutureWarning: Pass the following variable as a keyword arg: y. From version 0.12, the only valid positional argument will be `data`, and passing other arguments without an explicit keyword will result in an error or misinterpretation.\n",
            "  FutureWarning\n"
          ]
        },
        {
          "output_type": "display_data",
          "data": {
            "image/png": "[encoded data removed]",
            "text/plain": [
              "<Figure size 432x288 with 1 Axes>"
            ]
          },
          "metadata": {
            "needs_background": "light"
          }
        }
      ]
    },
    {
      "cell_type": "markdown",
      "metadata": {
        "id": "VbK87Eo-vGvL"
      },
      "source": [
        "Converting KDE Plot of East Sussex for past 13 years into a GIF"
      ]
    },
    {
      "cell_type": "code",
      "metadata": {
        "colab": {
          "base_uri": "https://localhost:8080/",
          "height": 949
        },
        "id": "-CigXcoACj-G",
        "outputId": "3a1754a0-3095-4bfd-ff93-7841ca8038d9"
      },
      "source": [
        "import matplotlib.pyplot as plt\n",
        "import imageio\n",
        "# fig, axes = plt.subplots(13,1, figsize=(10, 65))\n",
        "filenames = []\n",
        "for i in range(0,13):\n",
        "  df = sus_acc[sus_acc['Year']==(i+2005)]\n",
        "  splot=sns.kdeplot(df['Latitude'], df['Longitude'], shade=True, cmap='hot', weights=df['w1']).set_title(\"East Sussex:{}\".format(i+2005));\n",
        "  fig=splot.get_figure()\n",
        "  filename = f'{i}.png'\n",
        "  filenames.append(filename)\n",
        "  fig.savefig(filename)\n",
        "frames=[]\n",
        "for filename in filenames:\n",
        "    frames.append(imageio.imread(filename))\n",
        "      # writer.append_data(image)\n",
        "imageio.mimsave('sussexplot.gif',frames,'GIF',duration=0.5)\n",
        "for filename in set(filenames):\n",
        "    os.remove(filename)"
      ],
      "execution_count": null,
      "outputs": [
        {
          "output_type": "stream",
          "name": "stderr",
          "text": [
            "/usr/local/lib/python3.7/dist-packages/seaborn/_decorators.py:43: FutureWarning: Pass the following variable as a keyword arg: y. From version 0.12, the only valid positional argument will be `data`, and passing other arguments without an explicit keyword will result in an error or misinterpretation.\n",
            "  FutureWarning\n",
            "/usr/local/lib/python3.7/dist-packages/seaborn/_decorators.py:43: FutureWarning: Pass the following variable as a keyword arg: y. From version 0.12, the only valid positional argument will be `data`, and passing other arguments without an explicit keyword will result in an error or misinterpretation.\n",
            "  FutureWarning\n",
            "/usr/local/lib/python3.7/dist-packages/seaborn/_decorators.py:43: FutureWarning: Pass the following variable as a keyword arg: y. From version 0.12, the only valid positional argument will be `data`, and passing other arguments without an explicit keyword will result in an error or misinterpretation.\n",
            "  FutureWarning\n",
            "/usr/local/lib/python3.7/dist-packages/seaborn/_decorators.py:43: FutureWarning: Pass the following variable as a keyword arg: y. From version 0.12, the only valid positional argument will be `data`, and passing other arguments without an explicit keyword will result in an error or misinterpretation.\n",
            "  FutureWarning\n",
            "/usr/local/lib/python3.7/dist-packages/seaborn/_decorators.py:43: FutureWarning: Pass the following variable as a keyword arg: y. From version 0.12, the only valid positional argument will be `data`, and passing other arguments without an explicit keyword will result in an error or misinterpretation.\n",
            "  FutureWarning\n",
            "/usr/local/lib/python3.7/dist-packages/seaborn/_decorators.py:43: FutureWarning: Pass the following variable as a keyword arg: y. From version 0.12, the only valid positional argument will be `data`, and passing other arguments without an explicit keyword will result in an error or misinterpretation.\n",
            "  FutureWarning\n",
            "/usr/local/lib/python3.7/dist-packages/seaborn/_decorators.py:43: FutureWarning: Pass the following variable as a keyword arg: y. From version 0.12, the only valid positional argument will be `data`, and passing other arguments without an explicit keyword will result in an error or misinterpretation.\n",
            "  FutureWarning\n",
            "/usr/local/lib/python3.7/dist-packages/seaborn/_decorators.py:43: FutureWarning: Pass the following variable as a keyword arg: y. From version 0.12, the only valid positional argument will be `data`, and passing other arguments without an explicit keyword will result in an error or misinterpretation.\n",
            "  FutureWarning\n",
            "/usr/local/lib/python3.7/dist-packages/seaborn/_decorators.py:43: FutureWarning: Pass the following variable as a keyword arg: y. From version 0.12, the only valid positional argument will be `data`, and passing other arguments without an explicit keyword will result in an error or misinterpretation.\n",
            "  FutureWarning\n",
            "/usr/local/lib/python3.7/dist-packages/seaborn/_decorators.py:43: FutureWarning: Pass the following variable as a keyword arg: y. From version 0.12, the only valid positional argument will be `data`, and passing other arguments without an explicit keyword will result in an error or misinterpretation.\n",
            "  FutureWarning\n",
            "/usr/local/lib/python3.7/dist-packages/seaborn/_decorators.py:43: FutureWarning: Pass the following variable as a keyword arg: y. From version 0.12, the only valid positional argument will be `data`, and passing other arguments without an explicit keyword will result in an error or misinterpretation.\n",
            "  FutureWarning\n",
            "/usr/local/lib/python3.7/dist-packages/seaborn/_decorators.py:43: FutureWarning: Pass the following variable as a keyword arg: y. From version 0.12, the only valid positional argument will be `data`, and passing other arguments without an explicit keyword will result in an error or misinterpretation.\n",
            "  FutureWarning\n",
            "/usr/local/lib/python3.7/dist-packages/seaborn/_decorators.py:43: FutureWarning: Pass the following variable as a keyword arg: y. From version 0.12, the only valid positional argument will be `data`, and passing other arguments without an explicit keyword will result in an error or misinterpretation.\n",
            "  FutureWarning\n"
          ]
        },
        {
          "output_type": "error",
          "ename": "NameError",
          "evalue": "ignored",
          "traceback": [
            "\u001b[0;31m---------------------------------------------------------------------------\u001b[0m",
            "\u001b[0;31mNameError\u001b[0m                                 Traceback (most recent call last)",
            "\u001b[0;32m<ipython-input-15-9945374d8714>\u001b[0m in \u001b[0;36m<module>\u001b[0;34m()\u001b[0m\n\u001b[1;32m     16\u001b[0m \u001b[0mimageio\u001b[0m\u001b[0;34m.\u001b[0m\u001b[0mmimsave\u001b[0m\u001b[0;34m(\u001b[0m\u001b[0;34m'sussexplot.gif'\u001b[0m\u001b[0;34m,\u001b[0m\u001b[0mframes\u001b[0m\u001b[0;34m,\u001b[0m\u001b[0;34m'GIF'\u001b[0m\u001b[0;34m,\u001b[0m\u001b[0mduration\u001b[0m\u001b[0;34m=\u001b[0m\u001b[0;36m0.5\u001b[0m\u001b[0;34m)\u001b[0m\u001b[0;34m\u001b[0m\u001b[0;34m\u001b[0m\u001b[0m\n\u001b[1;32m     17\u001b[0m \u001b[0;32mfor\u001b[0m \u001b[0mfilename\u001b[0m \u001b[0;32min\u001b[0m \u001b[0mset\u001b[0m\u001b[0;34m(\u001b[0m\u001b[0mfilenames\u001b[0m\u001b[0;34m)\u001b[0m\u001b[0;34m:\u001b[0m\u001b[0;34m\u001b[0m\u001b[0;34m\u001b[0m\u001b[0m\n\u001b[0;32m---> 18\u001b[0;31m     \u001b[0mos\u001b[0m\u001b[0;34m.\u001b[0m\u001b[0mremove\u001b[0m\u001b[0;34m(\u001b[0m\u001b[0mfilename\u001b[0m\u001b[0;34m)\u001b[0m\u001b[0;34m\u001b[0m\u001b[0;34m\u001b[0m\u001b[0m\n\u001b[0m",
            "\u001b[0;31mNameError\u001b[0m: name 'os' is not defined"
          ]
        },
        {
          "output_type": "display_data",
          "data": {
            "image/png": "[encoded data removed]",
            "text/plain": [
              "<Figure size 432x288 with 1 Axes>"
            ]
          },
          "metadata": {
            "needs_background": "light"
          }
        }
      ]
    },
    {
      "cell_type": "markdown",
      "metadata": {
        "id": "qRP7m1Fk44QR"
      },
      "source": [
        "**Hampshire KDE Plot**"
      ]
    },
    {
      "cell_type": "code",
      "metadata": {
        "id": "SZ1ZfOvEMOMq"
      },
      "source": [
        "ham_acc = accidents.loc[accidents['Local_Authority_(Highway)'] == 'Hampshire']"
      ],
      "execution_count": null,
      "outputs": []
    },
    {
      "cell_type": "code",
      "metadata": {
        "id": "qF9B1UJIMae9"
      },
      "source": [
        "import seaborn as sns\n",
        "import matplotlib.pyplot as plt"
      ],
      "execution_count": null,
      "outputs": []
    },
    {
      "cell_type": "code",
      "metadata": {
        "id": "F7wPqA2BLys4"
      },
      "source": [
        "df = ham_acc[ham_acc['Year']==2005]\n",
        "sns.kdeplot(df['Latitude'], df['Longitude'], shade=True, cmap='hot', weights=df['w1']);"
      ],
      "execution_count": null,
      "outputs": []
    },
    {
      "cell_type": "markdown",
      "metadata": {
        "id": "4yGjxk0F4xLz"
      },
      "source": [
        "Converting KDE Plot of Hampshire for past 13 years into a GIF"
      ]
    },
    {
      "cell_type": "code",
      "metadata": {
        "id": "937Xv7gfLVQJ"
      },
      "source": [
        "import matplotlib.pyplot as plt\n",
        "import imageio\n",
        "# fig, axes = plt.subplots(13,1, figsize=(10, 65))\n",
        "filenames = []\n",
        "for i in range(0,13):\n",
        "  df = ham_acc[ham_acc['Year']==(i+2005)]\n",
        "  splot=sns.kdeplot(df['Latitude'], df['Longitude'], shade=True, cmap='hot', weights=df['w1']).set_title(\"Hampshire:{}\".format(i+2005));\n",
        "  fig=splot.get_figure()\n",
        "  filename = f'{i}.png'\n",
        "  filenames.append(filename)\n",
        "  fig.savefig(filename)\n",
        "frames=[]\n",
        "for filename in filenames:\n",
        "    frames.append(imageio.imread(filename))\n",
        "      # writer.append_data(image)\n",
        "imageio.mimsave('hampshireplot.gif',frames,'GIF',duration=0.5)\n",
        "for filename in set(filenames):\n",
        "    os.remove(filename)"
      ],
      "execution_count": null,
      "outputs": []
    },
    {
      "cell_type": "markdown",
      "metadata": {
        "id": "xbiF2w4kzn4a"
      },
      "source": [
        "### Set up for RF and SVM\n"
      ]
    },
    {
      "cell_type": "code",
      "metadata": {
        "colab": {
          "base_uri": "https://localhost:8080/",
          "height": 365
        },
        "id": "D6QqOv3GDSPR",
        "outputId": "1d06c3ad-f6e6-4eb0-9dd2-7b3316e72e3c"
      },
      "source": [
        "acc = pd.read_csv(\"train/Accident_Information.csv\")\n",
        "acc.head()"
      ],
      "execution_count": null,
      "outputs": [
        {
          "output_type": "stream",
          "name": "stderr",
          "text": [
            "/usr/local/lib/python3.7/dist-packages/IPython/core/interactiveshell.py:2718: DtypeWarning: Columns (0) have mixed types.Specify dtype option on import or set low_memory=False.\n",
            "  interactivity=interactivity, compiler=compiler, result=result)\n"
          ]
        },
        {
          "output_type": "execute_result",
          "data": {
            "text/html": [
              "<div>\n",
              "<style scoped>\n",
              "    .dataframe tbody tr th:only-of-type {\n",
              "        vertical-align: middle;\n",
              "    }\n",
              "\n",
              "    .dataframe tbody tr th {\n",
              "        vertical-align: top;\n",
              "    }\n",
              "\n",
              "    .dataframe thead th {\n",
              "        text-align: right;\n",
              "    }\n",
              "</style>\n",
              "<table border=\"1\" class=\"dataframe\">\n",
              "  <thead>\n",
              "    <tr style=\"text-align: right;\">\n",
              "      <th></th>\n",
              "      <th>Accident_Index</th>\n",
              "      <th>1st_Road_Class</th>\n",
              "      <th>1st_Road_Number</th>\n",
              "      <th>2nd_Road_Class</th>\n",
              "      <th>2nd_Road_Number</th>\n",
              "      <th>Accident_Severity</th>\n",
              "      <th>Carriageway_Hazards</th>\n",
              "      <th>Date</th>\n",
              "      <th>Day_of_Week</th>\n",
              "      <th>Did_Police_Officer_Attend_Scene_of_Accident</th>\n",
              "      <th>Junction_Control</th>\n",
              "      <th>Junction_Detail</th>\n",
              "      <th>Latitude</th>\n",
              "      <th>Light_Conditions</th>\n",
              "      <th>Local_Authority_(District)</th>\n",
              "      <th>Local_Authority_(Highway)</th>\n",
              "      <th>Location_Easting_OSGR</th>\n",
              "      <th>Location_Northing_OSGR</th>\n",
              "      <th>Longitude</th>\n",
              "      <th>LSOA_of_Accident_Location</th>\n",
              "      <th>Number_of_Casualties</th>\n",
              "      <th>Number_of_Vehicles</th>\n",
              "      <th>Pedestrian_Crossing-Human_Control</th>\n",
              "      <th>Pedestrian_Crossing-Physical_Facilities</th>\n",
              "      <th>Police_Force</th>\n",
              "      <th>Road_Surface_Conditions</th>\n",
              "      <th>Road_Type</th>\n",
              "      <th>Special_Conditions_at_Site</th>\n",
              "      <th>Speed_limit</th>\n",
              "      <th>Time</th>\n",
              "      <th>Urban_or_Rural_Area</th>\n",
              "      <th>Weather_Conditions</th>\n",
              "      <th>Year</th>\n",
              "      <th>InScotland</th>\n",
              "    </tr>\n",
              "  </thead>\n",
              "  <tbody>\n",
              "    <tr>\n",
              "      <th>0</th>\n",
              "      <td>200501BS00001</td>\n",
              "      <td>A</td>\n",
              "      <td>3218.0</td>\n",
              "      <td>NaN</td>\n",
              "      <td>0.0</td>\n",
              "      <td>Serious</td>\n",
              "      <td>None</td>\n",
              "      <td>2005-01-04</td>\n",
              "      <td>Tuesday</td>\n",
              "      <td>1.0</td>\n",
              "      <td>Data missing or out of range</td>\n",
              "      <td>Not at junction or within 20 metres</td>\n",
              "      <td>51.489096</td>\n",
              "      <td>Daylight</td>\n",
              "      <td>Kensington and Chelsea</td>\n",
              "      <td>Kensington and Chelsea</td>\n",
              "      <td>525680.0</td>\n",
              "      <td>178240.0</td>\n",
              "      <td>-0.191170</td>\n",
              "      <td>E01002849</td>\n",
              "      <td>1</td>\n",
              "      <td>1</td>\n",
              "      <td>0.0</td>\n",
              "      <td>1.0</td>\n",
              "      <td>Metropolitan Police</td>\n",
              "      <td>Wet or damp</td>\n",
              "      <td>Single carriageway</td>\n",
              "      <td>None</td>\n",
              "      <td>30.0</td>\n",
              "      <td>17:42</td>\n",
              "      <td>Urban</td>\n",
              "      <td>Raining no high winds</td>\n",
              "      <td>2005</td>\n",
              "      <td>No</td>\n",
              "    </tr>\n",
              "    <tr>\n",
              "      <th>1</th>\n",
              "      <td>200501BS00002</td>\n",
              "      <td>B</td>\n",
              "      <td>450.0</td>\n",
              "      <td>C</td>\n",
              "      <td>0.0</td>\n",
              "      <td>Slight</td>\n",
              "      <td>None</td>\n",
              "      <td>2005-01-05</td>\n",
              "      <td>Wednesday</td>\n",
              "      <td>1.0</td>\n",
              "      <td>Auto traffic signal</td>\n",
              "      <td>Crossroads</td>\n",
              "      <td>51.520075</td>\n",
              "      <td>Darkness - lights lit</td>\n",
              "      <td>Kensington and Chelsea</td>\n",
              "      <td>Kensington and Chelsea</td>\n",
              "      <td>524170.0</td>\n",
              "      <td>181650.0</td>\n",
              "      <td>-0.211708</td>\n",
              "      <td>E01002909</td>\n",
              "      <td>1</td>\n",
              "      <td>1</td>\n",
              "      <td>0.0</td>\n",
              "      <td>5.0</td>\n",
              "      <td>Metropolitan Police</td>\n",
              "      <td>Dry</td>\n",
              "      <td>Dual carriageway</td>\n",
              "      <td>None</td>\n",
              "      <td>30.0</td>\n",
              "      <td>17:36</td>\n",
              "      <td>Urban</td>\n",
              "      <td>Fine no high winds</td>\n",
              "      <td>2005</td>\n",
              "      <td>No</td>\n",
              "    </tr>\n",
              "    <tr>\n",
              "      <th>2</th>\n",
              "      <td>200501BS00003</td>\n",
              "      <td>C</td>\n",
              "      <td>0.0</td>\n",
              "      <td>NaN</td>\n",
              "      <td>0.0</td>\n",
              "      <td>Slight</td>\n",
              "      <td>None</td>\n",
              "      <td>2005-01-06</td>\n",
              "      <td>Thursday</td>\n",
              "      <td>1.0</td>\n",
              "      <td>Data missing or out of range</td>\n",
              "      <td>Not at junction or within 20 metres</td>\n",
              "      <td>51.525301</td>\n",
              "      <td>Darkness - lights lit</td>\n",
              "      <td>Kensington and Chelsea</td>\n",
              "      <td>Kensington and Chelsea</td>\n",
              "      <td>524520.0</td>\n",
              "      <td>182240.0</td>\n",
              "      <td>-0.206458</td>\n",
              "      <td>E01002857</td>\n",
              "      <td>1</td>\n",
              "      <td>2</td>\n",
              "      <td>0.0</td>\n",
              "      <td>0.0</td>\n",
              "      <td>Metropolitan Police</td>\n",
              "      <td>Dry</td>\n",
              "      <td>Single carriageway</td>\n",
              "      <td>None</td>\n",
              "      <td>30.0</td>\n",
              "      <td>00:15</td>\n",
              "      <td>Urban</td>\n",
              "      <td>Fine no high winds</td>\n",
              "      <td>2005</td>\n",
              "      <td>No</td>\n",
              "    </tr>\n",
              "    <tr>\n",
              "      <th>3</th>\n",
              "      <td>200501BS00004</td>\n",
              "      <td>A</td>\n",
              "      <td>3220.0</td>\n",
              "      <td>NaN</td>\n",
              "      <td>0.0</td>\n",
              "      <td>Slight</td>\n",
              "      <td>None</td>\n",
              "      <td>2005-01-07</td>\n",
              "      <td>Friday</td>\n",
              "      <td>1.0</td>\n",
              "      <td>Data missing or out of range</td>\n",
              "      <td>Not at junction or within 20 metres</td>\n",
              "      <td>51.482442</td>\n",
              "      <td>Daylight</td>\n",
              "      <td>Kensington and Chelsea</td>\n",
              "      <td>Kensington and Chelsea</td>\n",
              "      <td>526900.0</td>\n",
              "      <td>177530.0</td>\n",
              "      <td>-0.173862</td>\n",
              "      <td>E01002840</td>\n",
              "      <td>1</td>\n",
              "      <td>1</td>\n",
              "      <td>0.0</td>\n",
              "      <td>0.0</td>\n",
              "      <td>Metropolitan Police</td>\n",
              "      <td>Dry</td>\n",
              "      <td>Single carriageway</td>\n",
              "      <td>None</td>\n",
              "      <td>30.0</td>\n",
              "      <td>10:35</td>\n",
              "      <td>Urban</td>\n",
              "      <td>Fine no high winds</td>\n",
              "      <td>2005</td>\n",
              "      <td>No</td>\n",
              "    </tr>\n",
              "    <tr>\n",
              "      <th>4</th>\n",
              "      <td>200501BS00005</td>\n",
              "      <td>Unclassified</td>\n",
              "      <td>0.0</td>\n",
              "      <td>NaN</td>\n",
              "      <td>0.0</td>\n",
              "      <td>Slight</td>\n",
              "      <td>None</td>\n",
              "      <td>2005-01-10</td>\n",
              "      <td>Monday</td>\n",
              "      <td>1.0</td>\n",
              "      <td>Data missing or out of range</td>\n",
              "      <td>Not at junction or within 20 metres</td>\n",
              "      <td>51.495752</td>\n",
              "      <td>Darkness - lighting unknown</td>\n",
              "      <td>Kensington and Chelsea</td>\n",
              "      <td>Kensington and Chelsea</td>\n",
              "      <td>528060.0</td>\n",
              "      <td>179040.0</td>\n",
              "      <td>-0.156618</td>\n",
              "      <td>E01002863</td>\n",
              "      <td>1</td>\n",
              "      <td>1</td>\n",
              "      <td>0.0</td>\n",
              "      <td>0.0</td>\n",
              "      <td>Metropolitan Police</td>\n",
              "      <td>Wet or damp</td>\n",
              "      <td>Single carriageway</td>\n",
              "      <td>None</td>\n",
              "      <td>30.0</td>\n",
              "      <td>21:13</td>\n",
              "      <td>Urban</td>\n",
              "      <td>Fine no high winds</td>\n",
              "      <td>2005</td>\n",
              "      <td>No</td>\n",
              "    </tr>\n",
              "  </tbody>\n",
              "</table>\n",
              "</div>"
            ],
            "text/plain": [
              "  Accident_Index 1st_Road_Class  ...  Year InScotland\n",
              "0  200501BS00001              A  ...  2005         No\n",
              "1  200501BS00002              B  ...  2005         No\n",
              "2  200501BS00003              C  ...  2005         No\n",
              "3  200501BS00004              A  ...  2005         No\n",
              "4  200501BS00005   Unclassified  ...  2005         No\n",
              "\n",
              "[5 rows x 34 columns]"
            ]
          },
          "metadata": {},
          "execution_count": 65
        }
      ]
    },
    {
      "cell_type": "code",
      "metadata": {
        "colab": {
          "base_uri": "https://localhost:8080/"
        },
        "id": "DPZC525MP7wT",
        "outputId": "04b01d53-dce4-4eb6-d559-021bc125c001"
      },
      "source": [
        "veh = pd.read_csv(\"train/Vehicle_Information.csv\", encoding='ISO-8859-1')\n",
        "acc.shape"
      ],
      "execution_count": null,
      "outputs": [
        {
          "output_type": "execute_result",
          "data": {
            "text/plain": [
              "(2047256, 34)"
            ]
          },
          "metadata": {},
          "execution_count": 66
        }
      ]
    },
    {
      "cell_type": "code",
      "metadata": {
        "colab": {
          "base_uri": "https://localhost:8080/"
        },
        "id": "WNnQ7aBBlQK1",
        "outputId": "70a95711-fb3b-48b3-c63c-7100e3e3b7b2"
      },
      "source": [
        "df = pd.merge(accidents, veh, how = 'inner', on = 'Accident_Index' )\n",
        "df.columns"
      ],
      "execution_count": null,
      "outputs": [
        {
          "output_type": "execute_result",
          "data": {
            "text/plain": [
              "Index(['Accident_Index', '1st_Road_Class', '1st_Road_Number', '2nd_Road_Class',\n",
              "       '2nd_Road_Number', 'Accident_Severity', 'Carriageway_Hazards', 'Date',\n",
              "       'Day_of_Week', 'Did_Police_Officer_Attend_Scene_of_Accident',\n",
              "       'Junction_Control', 'Junction_Detail', 'Latitude', 'Light_Conditions',\n",
              "       'Local_Authority_(District)', 'Local_Authority_(Highway)',\n",
              "       'Location_Easting_OSGR', 'Location_Northing_OSGR', 'Longitude',\n",
              "       'LSOA_of_Accident_Location', 'Number_of_Casualties',\n",
              "       'Number_of_Vehicles', 'Pedestrian_Crossing-Human_Control',\n",
              "       'Pedestrian_Crossing-Physical_Facilities', 'Police_Force',\n",
              "       'Road_Surface_Conditions', 'Road_Type', 'Special_Conditions_at_Site',\n",
              "       'Speed_limit', 'Time', 'Urban_or_Rural_Area', 'Weather_Conditions',\n",
              "       'Year_x', 'InScotland', 'Age_Band_of_Driver', 'Age_of_Vehicle',\n",
              "       'Driver_Home_Area_Type', 'Driver_IMD_Decile', 'Engine_Capacity_.CC.',\n",
              "       'Hit_Object_in_Carriageway', 'Hit_Object_off_Carriageway',\n",
              "       'Journey_Purpose_of_Driver', 'Junction_Location', 'make', 'model',\n",
              "       'Propulsion_Code', 'Sex_of_Driver', 'Skidding_and_Overturning',\n",
              "       'Towing_and_Articulation', 'Vehicle_Leaving_Carriageway',\n",
              "       'Vehicle_Location.Restricted_Lane', 'Vehicle_Manoeuvre',\n",
              "       'Vehicle_Reference', 'Vehicle_Type', 'Was_Vehicle_Left_Hand_Drive',\n",
              "       'X1st_Point_of_Impact', 'Year_y'],\n",
              "      dtype='object')"
            ]
          },
          "metadata": {},
          "execution_count": 67
        }
      ]
    },
    {
      "cell_type": "code",
      "metadata": {
        "id": "k47ur4rNQR7S"
      },
      "source": [
        "df = df[['1st_Road_Class', 'Junction_Detail', \"Accident_Index\", 'Accident_Severity', 'Carriageway_Hazards', 'Date',\n",
        "       'Day_of_Week','Latitude', 'Light_Conditions',  'Longitude',\n",
        "       'LSOA_of_Accident_Location', 'Number_of_Casualties',\n",
        "       'Number_of_Vehicles', \n",
        "       'Road_Surface_Conditions', 'Road_Type', 'Special_Conditions_at_Site',\n",
        "       'Speed_limit', 'Time', 'Urban_or_Rural_Area', 'Weather_Conditions',\n",
        "       'Year_x','Age_Band_of_Driver', 'Age_of_Vehicle', 'Engine_Capacity_.CC.', 'Skidding_and_Overturning',  'Vehicle_Type', 'Hit_Object_in_Carriageway', 'Hit_Object_off_Carriageway']]"
      ],
      "execution_count": null,
      "outputs": []
    },
    {
      "cell_type": "code",
      "metadata": {
        "colab": {
          "base_uri": "https://localhost:8080/"
        },
        "id": "_GBv7hiPkQnm",
        "outputId": "81d21c9c-79fc-4661-b197-2a1cc33b8564"
      },
      "source": [
        "df.dropna()\n",
        "df.info()"
      ],
      "execution_count": null,
      "outputs": [
        {
          "output_type": "stream",
          "name": "stdout",
          "text": [
            "<class 'pandas.core.frame.DataFrame'>\n",
            "Int64Index: 2058283 entries, 0 to 2058282\n",
            "Data columns (total 28 columns):\n",
            " #   Column                      Dtype  \n",
            "---  ------                      -----  \n",
            " 0   1st_Road_Class              object \n",
            " 1   Junction_Detail             object \n",
            " 2   Accident_Index              object \n",
            " 3   Accident_Severity           object \n",
            " 4   Carriageway_Hazards         object \n",
            " 5   Date                        object \n",
            " 6   Day_of_Week                 object \n",
            " 7   Latitude                    float64\n",
            " 8   Light_Conditions            object \n",
            " 9   Longitude                   float64\n",
            " 10  LSOA_of_Accident_Location   object \n",
            " 11  Number_of_Casualties        int64  \n",
            " 12  Number_of_Vehicles          int64  \n",
            " 13  Road_Surface_Conditions     object \n",
            " 14  Road_Type                   object \n",
            " 15  Special_Conditions_at_Site  object \n",
            " 16  Speed_limit                 float64\n",
            " 17  Time                        object \n",
            " 18  Urban_or_Rural_Area         object \n",
            " 19  Weather_Conditions          object \n",
            " 20  Year_x                      int64  \n",
            " 21  Age_Band_of_Driver          object \n",
            " 22  Age_of_Vehicle              float64\n",
            " 23  Engine_Capacity_.CC.        float64\n",
            " 24  Skidding_and_Overturning    object \n",
            " 25  Vehicle_Type                object \n",
            " 26  Hit_Object_in_Carriageway   object \n",
            " 27  Hit_Object_off_Carriageway  object \n",
            "dtypes: float64(5), int64(3), object(20)\n",
            "memory usage: 455.4+ MB\n"
          ]
        }
      ]
    },
    {
      "cell_type": "markdown",
      "metadata": {
        "id": "ono_4-WseZ6H"
      },
      "source": [
        "### Models \n",
        "- Classifying attribute information according to severity \n",
        "- Predicting severity of a location using severity index"
      ]
    },
    {
      "cell_type": "markdown",
      "metadata": {
        "id": "io56EXITe-or"
      },
      "source": [
        "### Preprocessing"
      ]
    },
    {
      "cell_type": "code",
      "metadata": {
        "colab": {
          "base_uri": "https://localhost:8080/"
        },
        "id": "CESxdzefRaVS",
        "outputId": "874e1c03-92c6-48fe-eb29-b2fa095f4250"
      },
      "source": [
        "df.isnull().sum()"
      ],
      "execution_count": null,
      "outputs": [
        {
          "output_type": "execute_result",
          "data": {
            "text/plain": [
              "1st_Road_Class                     0\n",
              "Junction_Detail                    0\n",
              "Accident_Index                     0\n",
              "Accident_Severity                  0\n",
              "Carriageway_Hazards                0\n",
              "Date                               0\n",
              "Day_of_Week                        0\n",
              "Latitude                           0\n",
              "Light_Conditions                   0\n",
              "Longitude                          0\n",
              "LSOA_of_Accident_Location     139088\n",
              "Number_of_Casualties               0\n",
              "Number_of_Vehicles                 0\n",
              "Road_Surface_Conditions            0\n",
              "Road_Type                          0\n",
              "Special_Conditions_at_Site         0\n",
              "Speed_limit                       65\n",
              "Time                             146\n",
              "Urban_or_Rural_Area                0\n",
              "Weather_Conditions                 0\n",
              "Year_x                             0\n",
              "Age_Band_of_Driver                 0\n",
              "Age_of_Vehicle                337919\n",
              "Engine_Capacity_.CC.          250283\n",
              "Skidding_and_Overturning           0\n",
              "Vehicle_Type                       0\n",
              "Hit_Object_in_Carriageway          0\n",
              "Hit_Object_off_Carriageway         0\n",
              "dtype: int64"
            ]
          },
          "metadata": {},
          "execution_count": 70
        }
      ]
    },
    {
      "cell_type": "code",
      "metadata": {
        "colab": {
          "base_uri": "https://localhost:8080/"
        },
        "id": "inFbylKeqkTy",
        "outputId": "52bb2680-b37a-4915-ef02-42e60624f4f4"
      },
      "source": [
        "df.dropna(how='any', inplace=True)\n",
        "df.shape"
      ],
      "execution_count": null,
      "outputs": [
        {
          "output_type": "execute_result",
          "data": {
            "text/plain": [
              "(1588313, 28)"
            ]
          },
          "metadata": {},
          "execution_count": 71
        }
      ]
    },
    {
      "cell_type": "code",
      "metadata": {
        "colab": {
          "base_uri": "https://localhost:8080/"
        },
        "id": "4chGMT7DsIPX",
        "outputId": "bf0f236a-77bf-47ca-fca3-94fbb6186356"
      },
      "source": [
        "df.isnull().sum()"
      ],
      "execution_count": null,
      "outputs": [
        {
          "output_type": "execute_result",
          "data": {
            "text/plain": [
              "1st_Road_Class                0\n",
              "Junction_Detail               0\n",
              "Accident_Index                0\n",
              "Accident_Severity             0\n",
              "Carriageway_Hazards           0\n",
              "Date                          0\n",
              "Day_of_Week                   0\n",
              "Latitude                      0\n",
              "Light_Conditions              0\n",
              "Longitude                     0\n",
              "LSOA_of_Accident_Location     0\n",
              "Number_of_Casualties          0\n",
              "Number_of_Vehicles            0\n",
              "Road_Surface_Conditions       0\n",
              "Road_Type                     0\n",
              "Special_Conditions_at_Site    0\n",
              "Speed_limit                   0\n",
              "Time                          0\n",
              "Urban_or_Rural_Area           0\n",
              "Weather_Conditions            0\n",
              "Year_x                        0\n",
              "Age_Band_of_Driver            0\n",
              "Age_of_Vehicle                0\n",
              "Engine_Capacity_.CC.          0\n",
              "Skidding_and_Overturning      0\n",
              "Vehicle_Type                  0\n",
              "Hit_Object_in_Carriageway     0\n",
              "Hit_Object_off_Carriageway    0\n",
              "dtype: int64"
            ]
          },
          "metadata": {},
          "execution_count": 72
        }
      ]
    },
    {
      "cell_type": "code",
      "metadata": {
        "id": "WJr-b7c4su4z"
      },
      "source": [
        "df2 = df[['Time', 'Day_of_Week', 'Light_Conditions', 'Number_of_Casualties', 'Number_of_Vehicles', 'Road_Surface_Conditions', 'Road_Type', \n",
        "          'Speed_limit', 'Urban_or_Rural_Area', 'Weather_Conditions', 'Age_of_Vehicle', 'Engine_Capacity_.CC.',\n",
        "          'Skidding_and_Overturning', 'Hit_Object_in_Carriageway','Hit_Object_off_Carriageway','Accident_Severity']]"
      ],
      "execution_count": null,
      "outputs": []
    },
    {
      "cell_type": "code",
      "metadata": {
        "colab": {
          "base_uri": "https://localhost:8080/"
        },
        "id": "7KJLD4213IG4",
        "outputId": "8ab203e1-e619-4a91-fd87-c6a23b6bcd5b"
      },
      "source": [
        "df2.info()"
      ],
      "execution_count": null,
      "outputs": [
        {
          "output_type": "stream",
          "name": "stdout",
          "text": [
            "<class 'pandas.core.frame.DataFrame'>\n",
            "Int64Index: 1588313 entries, 0 to 2043551\n",
            "Data columns (total 16 columns):\n",
            " #   Column                      Non-Null Count    Dtype  \n",
            "---  ------                      --------------    -----  \n",
            " 0   Time                        1588313 non-null  object \n",
            " 1   Day_of_Week                 1588313 non-null  object \n",
            " 2   Light_Conditions            1588313 non-null  object \n",
            " 3   Number_of_Casualties        1588313 non-null  int64  \n",
            " 4   Number_of_Vehicles          1588313 non-null  int64  \n",
            " 5   Road_Surface_Conditions     1588313 non-null  object \n",
            " 6   Road_Type                   1588313 non-null  object \n",
            " 7   Speed_limit                 1588313 non-null  float64\n",
            " 8   Urban_or_Rural_Area         1588313 non-null  object \n",
            " 9   Weather_Conditions          1588313 non-null  object \n",
            " 10  Age_of_Vehicle              1588313 non-null  float64\n",
            " 11  Engine_Capacity_.CC.        1588313 non-null  float64\n",
            " 12  Skidding_and_Overturning    1588313 non-null  object \n",
            " 13  Hit_Object_in_Carriageway   1588313 non-null  object \n",
            " 14  Hit_Object_off_Carriageway  1588313 non-null  object \n",
            " 15  Accident_Severity           1588313 non-null  object \n",
            "dtypes: float64(3), int64(2), object(11)\n",
            "memory usage: 206.0+ MB\n"
          ]
        }
      ]
    },
    {
      "cell_type": "markdown",
      "metadata": {
        "id": "MFW_ZDenvdTi"
      },
      "source": [
        "Encoding categorical values to numerical values"
      ]
    },
    {
      "cell_type": "code",
      "metadata": {
        "colab": {
          "base_uri": "https://localhost:8080/"
        },
        "id": "TzHfHb2T5OUT",
        "outputId": "dd9d2c81-ecf9-481c-fbc1-d0388bd21b83"
      },
      "source": [
        "df2['Hour']=df2['Time'].str[0:2]\n",
        "df2=df2.dropna(subset=['Hour'])\n",
        "df2['Hour']=pd.to_numeric(df2['Hour'])\n",
        "def converthrstocategory(hrs):\n",
        "    if(hrs<6):\n",
        "        return 1\n",
        "    elif(hrs>=6 and hrs<11):\n",
        "        return 2\n",
        "    elif(hrs>=11 and hrs<16):\n",
        "        return 3\n",
        "    elif(hrs>=16 and hrs<20):\n",
        "        return 4\n",
        "    elif(hrs>=20 and hrs<=23):\n",
        "        return 5\n",
        "df2['Hrs_category']=df2['Hour'].apply(converthrstocategory)\n",
        "df2['Hrs_category']"
      ],
      "execution_count": null,
      "outputs": [
        {
          "output_type": "stream",
          "name": "stderr",
          "text": [
            "/usr/local/lib/python3.7/dist-packages/ipykernel_launcher.py:1: SettingWithCopyWarning: \n",
            "A value is trying to be set on a copy of a slice from a DataFrame.\n",
            "Try using .loc[row_indexer,col_indexer] = value instead\n",
            "\n",
            "See the caveats in the documentation: https://pandas.pydata.org/pandas-docs/stable/user_guide/indexing.html#returning-a-view-versus-a-copy\n",
            "  \"\"\"Entry point for launching an IPython kernel.\n"
          ]
        },
        {
          "output_type": "execute_result",
          "data": {
            "text/plain": [
              "0          4\n",
              "1          1\n",
              "2          2\n",
              "3          5\n",
              "4          3\n",
              "          ..\n",
              "2043543    3\n",
              "2043544    3\n",
              "2043546    2\n",
              "2043548    1\n",
              "2043551    4\n",
              "Name: Hrs_category, Length: 1588313, dtype: int64"
            ]
          },
          "metadata": {},
          "execution_count": 75
        }
      ]
    },
    {
      "cell_type": "code",
      "metadata": {
        "id": "3DHD9_5s8xgn"
      },
      "source": [
        "df2.drop(['Time','Hour'], axis=1, inplace=True)"
      ],
      "execution_count": null,
      "outputs": []
    },
    {
      "cell_type": "code",
      "metadata": {
        "colab": {
          "base_uri": "https://localhost:8080/"
        },
        "id": "8J-JVwTS9SCw",
        "outputId": "0a49ddb6-7bd3-4a27-9115-afeadcbf8c35"
      },
      "source": [
        "df2.info()"
      ],
      "execution_count": null,
      "outputs": [
        {
          "output_type": "stream",
          "name": "stdout",
          "text": [
            "<class 'pandas.core.frame.DataFrame'>\n",
            "Int64Index: 1588313 entries, 0 to 2043551\n",
            "Data columns (total 16 columns):\n",
            " #   Column                      Non-Null Count    Dtype  \n",
            "---  ------                      --------------    -----  \n",
            " 0   Day_of_Week                 1588313 non-null  object \n",
            " 1   Light_Conditions            1588313 non-null  object \n",
            " 2   Number_of_Casualties        1588313 non-null  int64  \n",
            " 3   Number_of_Vehicles          1588313 non-null  int64  \n",
            " 4   Road_Surface_Conditions     1588313 non-null  object \n",
            " 5   Road_Type                   1588313 non-null  object \n",
            " 6   Speed_limit                 1588313 non-null  float64\n",
            " 7   Urban_or_Rural_Area         1588313 non-null  object \n",
            " 8   Weather_Conditions          1588313 non-null  object \n",
            " 9   Age_of_Vehicle              1588313 non-null  float64\n",
            " 10  Engine_Capacity_.CC.        1588313 non-null  float64\n",
            " 11  Skidding_and_Overturning    1588313 non-null  object \n",
            " 12  Hit_Object_in_Carriageway   1588313 non-null  object \n",
            " 13  Hit_Object_off_Carriageway  1588313 non-null  object \n",
            " 14  Accident_Severity           1588313 non-null  object \n",
            " 15  Hrs_category                1588313 non-null  int64  \n",
            "dtypes: float64(3), int64(3), object(10)\n",
            "memory usage: 206.0+ MB\n"
          ]
        }
      ]
    },
    {
      "cell_type": "code",
      "metadata": {
        "id": "soUdYfng3KR2"
      },
      "source": [
        "for i in ['Day_of_Week', 'Light_Conditions', 'Road_Surface_Conditions', 'Road_Type', \n",
        "          'Urban_or_Rural_Area', 'Weather_Conditions', \n",
        "          'Skidding_and_Overturning', 'Hit_Object_in_Carriageway','Hit_Object_off_Carriageway']:\n",
        "          df2[i] = df2[i].astype('category')"
      ],
      "execution_count": null,
      "outputs": []
    },
    {
      "cell_type": "code",
      "metadata": {
        "colab": {
          "base_uri": "https://localhost:8080/"
        },
        "id": "DRTlC7WL9s0e",
        "outputId": "d7257818-86c5-45f7-cb7d-03ec8fc2571f"
      },
      "source": [
        "df2.info()"
      ],
      "execution_count": null,
      "outputs": [
        {
          "output_type": "stream",
          "name": "stdout",
          "text": [
            "<class 'pandas.core.frame.DataFrame'>\n",
            "Int64Index: 1588313 entries, 0 to 2043551\n",
            "Data columns (total 16 columns):\n",
            " #   Column                      Non-Null Count    Dtype   \n",
            "---  ------                      --------------    -----   \n",
            " 0   Day_of_Week                 1588313 non-null  category\n",
            " 1   Light_Conditions            1588313 non-null  category\n",
            " 2   Number_of_Casualties        1588313 non-null  int64   \n",
            " 3   Number_of_Vehicles          1588313 non-null  int64   \n",
            " 4   Road_Surface_Conditions     1588313 non-null  category\n",
            " 5   Road_Type                   1588313 non-null  category\n",
            " 6   Speed_limit                 1588313 non-null  float64 \n",
            " 7   Urban_or_Rural_Area         1588313 non-null  category\n",
            " 8   Weather_Conditions          1588313 non-null  category\n",
            " 9   Age_of_Vehicle              1588313 non-null  float64 \n",
            " 10  Engine_Capacity_.CC.        1588313 non-null  float64 \n",
            " 11  Skidding_and_Overturning    1588313 non-null  category\n",
            " 12  Hit_Object_in_Carriageway   1588313 non-null  category\n",
            " 13  Hit_Object_off_Carriageway  1588313 non-null  category\n",
            " 14  Accident_Severity           1588313 non-null  object  \n",
            " 15  Hrs_category                1588313 non-null  int64   \n",
            "dtypes: category(9), float64(3), int64(3), object(1)\n",
            "memory usage: 110.6+ MB\n"
          ]
        }
      ]
    },
    {
      "cell_type": "code",
      "metadata": {
        "id": "HFi-nVpM09gU"
      },
      "source": [
        "df2['Accident_Severity'] = df2['Accident_Severity'].astype('category')"
      ],
      "execution_count": null,
      "outputs": []
    },
    {
      "cell_type": "code",
      "metadata": {
        "id": "6PsERNGG1K65"
      },
      "source": [
        "df2 = df2[[c for c in df2 if c not in ['Accident_Severity']] \n",
        "       + ['Accident_Severity']]"
      ],
      "execution_count": null,
      "outputs": []
    },
    {
      "cell_type": "code",
      "metadata": {
        "id": "hZctmRFl16My"
      },
      "source": [
        "y = df2['Accident_Severity']\n",
        "X = df2.iloc[:,:-1]"
      ],
      "execution_count": null,
      "outputs": []
    },
    {
      "cell_type": "code",
      "metadata": {
        "id": "1goqLLG-18YC"
      },
      "source": [
        "from sklearn.model_selection import train_test_split\n",
        "from sklearn.preprocessing import LabelEncoder\n",
        "from sklearn.preprocessing import OrdinalEncoder\n",
        "from sklearn.feature_selection import SelectKBest\n",
        "from sklearn.feature_selection import chi2"
      ],
      "execution_count": null,
      "outputs": []
    },
    {
      "cell_type": "code",
      "metadata": {
        "id": "tddzdm1y6PAf"
      },
      "source": [
        "oe = OrdinalEncoder()\n",
        "oe.fit(X)\n",
        "X = oe.transform(X)"
      ],
      "execution_count": null,
      "outputs": []
    },
    {
      "cell_type": "code",
      "metadata": {
        "id": "bD-clbvE7UKB"
      },
      "source": [
        "#map = {'Fatal': 2, 'Serious': 1, 'Slight': 0}\n",
        "#y = y.replace(map)\n",
        "#y"
      ],
      "execution_count": null,
      "outputs": []
    },
    {
      "cell_type": "code",
      "metadata": {
        "id": "0GvA3bBJ2CIM"
      },
      "source": [
        "X_train, X_test, y_train, y_test = train_test_split(X, y, test_size=0.2, random_state=1, stratify = y)\n"
      ],
      "execution_count": null,
      "outputs": []
    },
    {
      "cell_type": "code",
      "metadata": {
        "id": "TP95Bg5S4jzC"
      },
      "source": [
        "feat = SelectKBest(score_func=chi2, k='all')\n",
        "feat.fit(X_train, y_train)\n",
        "X_train = feat.transform(X_train)\n",
        "X_test = feat.transform(X_test)\n"
      ],
      "execution_count": null,
      "outputs": []
    },
    {
      "cell_type": "code",
      "metadata": {
        "colab": {
          "base_uri": "https://localhost:8080/"
        },
        "id": "mtbObM1473ol",
        "outputId": "5ec54762-5f1f-419b-b0cc-cc2565de4d4a"
      },
      "source": [
        "from matplotlib import pyplot\n",
        "for i in range(len(feat.scores_)):\n",
        "\tprint('Feature %d: %f' % (i, feat.scores_[i]))\n",
        "# plot the scores\n",
        "pyplot.bar([i for i in range(len(feat.scores_))], feat.scores_)\n",
        "pyplot.show()"
      ],
      "execution_count": null,
      "outputs": [
        {
          "output_type": "stream",
          "name": "stdout",
          "text": [
            "Feature 0: 68.032236\n",
            "Feature 1: 611.969528\n",
            "Feature 2: 28680.350030\n",
            "Feature 3: 1777.950213\n",
            "Feature 4: 148.933812\n",
            "Feature 5: 566.005884\n",
            "Feature 6: 9246.879572\n",
            "Feature 7: 4926.789036\n",
            "Feature 8: 1242.945284\n",
            "Feature 9: 2293.266038\n",
            "Feature 10: 489128.743780\n",
            "Feature 11: 1054.020899\n",
            "Feature 12: 10.481796\n",
            "Feature 13: 415.287063\n",
            "Feature 14: 67.091307\n"
          ]
        },
        {
          "output_type": "display_data",
          "data": {
            "image/png": "[encoded data removed]",
            "text/plain": [
              "<Figure size 432x288 with 1 Axes>"
            ]
          },
          "metadata": {
            "needs_background": "light"
          }
        }
      ]
    },
    {
      "cell_type": "code",
      "metadata": {
        "id": "pq-b64wF8KEu"
      },
      "source": [
        "from sklearn.ensemble import RandomForestClassifier\n",
        "from sklearn.model_selection import KFold, cross_val_score\n",
        "from sklearn.metrics import classification_report"
      ],
      "execution_count": null,
      "outputs": []
    },
    {
      "cell_type": "markdown",
      "metadata": {
        "id": "KZ3-YB9oEU3j"
      },
      "source": [
        "### Random Forest Classifier"
      ]
    },
    {
      "cell_type": "code",
      "metadata": {
        "colab": {
          "base_uri": "https://localhost:8080/"
        },
        "id": "yPNR-q4jAM8m",
        "outputId": "342956de-b868-41ba-dfcc-9e6bb1bfbfec"
      },
      "source": [
        "forest = RandomForestClassifier(random_state=4, criterion='gini', n_jobs=-1)\n",
        "forest.fit(X_train, y_train)"
      ],
      "execution_count": null,
      "outputs": [
        {
          "output_type": "execute_result",
          "data": {
            "text/plain": [
              "RandomForestClassifier(n_jobs=-1, random_state=4)"
            ]
          },
          "metadata": {},
          "execution_count": 57
        }
      ]
    },
    {
      "cell_type": "code",
      "metadata": {
        "id": "p4-NqZloP7CI"
      },
      "source": [
        "pred = forest.predict(X_test)"
      ],
      "execution_count": null,
      "outputs": []
    },
    {
      "cell_type": "code",
      "metadata": {
        "colab": {
          "base_uri": "https://localhost:8080/"
        },
        "id": "Yb8wyeO0AVhw",
        "outputId": "9bf9e2e9-4ec8-423a-dc3e-a6b748fe9fd5"
      },
      "source": [
        "report = classification_report(y_test, pred)\n",
        "print('Classification Report Random Forest - SMOTE Upsampling: \\n', report)"
      ],
      "execution_count": null,
      "outputs": [
        {
          "output_type": "stream",
          "name": "stdout",
          "text": [
            "Classification Report Random Forest - SMOTE Upsampling: \n",
            "               precision    recall  f1-score   support\n",
            "\n",
            "       Fatal       0.23      0.04      0.06      4127\n",
            "     Serious       0.28      0.08      0.13     39847\n",
            "      Slight       0.87      0.97      0.92    273689\n",
            "\n",
            "    accuracy                           0.85    317663\n",
            "   macro avg       0.46      0.36      0.37    317663\n",
            "weighted avg       0.79      0.85      0.81    317663\n",
            "\n"
          ]
        }
      ]
    },
    {
      "cell_type": "markdown",
      "metadata": {
        "id": "eLCZ9ixzjTdr"
      },
      "source": [
        "### SMOTE"
      ]
    },
    {
      "cell_type": "code",
      "metadata": {
        "id": "Mq32VeP0Rv7V"
      },
      "source": [
        "from imblearn.over_sampling import SMOTE\n"
      ],
      "execution_count": null,
      "outputs": []
    },
    {
      "cell_type": "code",
      "metadata": {
        "id": "s0rJnvteYr0a"
      },
      "source": [
        "X_resampled, y_resampled = SMOTE().fit_resample(X_train, y_train)"
      ],
      "execution_count": null,
      "outputs": []
    },
    {
      "cell_type": "code",
      "metadata": {
        "colab": {
          "base_uri": "https://localhost:8080/"
        },
        "id": "iNxRqnBkY4Gy",
        "outputId": "dc96b96b-d335-446c-9dde-8ad77123c960"
      },
      "source": [
        "print(\"Before\")\n",
        "print(y.value_counts())\n",
        "print(\"After\")\n",
        "print(pd.Series(y_resampled).value_counts())"
      ],
      "execution_count": null,
      "outputs": [
        {
          "output_type": "stream",
          "name": "stdout",
          "text": [
            "Before\n",
            "Slight     1368445\n",
            "Serious     199235\n",
            "Fatal        20633\n",
            "Name: Accident_Severity, dtype: int64\n",
            "After\n",
            "Slight     1094756\n",
            "Serious    1094756\n",
            "Fatal      1094756\n",
            "Name: Accident_Severity, dtype: int64\n"
          ]
        }
      ]
    },
    {
      "cell_type": "code",
      "metadata": {
        "id": "vVpuGIyaZ6Vo"
      },
      "source": [
        "X_train, X_test, y_train, y_test = train_test_split(X_resampled, y_resampled, test_size=0.2, random_state=1)\n"
      ],
      "execution_count": null,
      "outputs": []
    },
    {
      "cell_type": "code",
      "metadata": {
        "colab": {
          "base_uri": "https://localhost:8080/"
        },
        "id": "PHcn-wdjgbzp",
        "outputId": "905406b7-3708-4ed6-8957-37e506c3c9ad"
      },
      "source": [
        "X_train.shape"
      ],
      "execution_count": null,
      "outputs": [
        {
          "output_type": "execute_result",
          "data": {
            "text/plain": [
              "(2627414, 15)"
            ]
          },
          "metadata": {},
          "execution_count": 61
        }
      ]
    },
    {
      "cell_type": "markdown",
      "metadata": {
        "id": "60vNVtXzjWaA"
      },
      "source": [
        "### SMOTE RF"
      ]
    },
    {
      "cell_type": "code",
      "metadata": {
        "colab": {
          "base_uri": "https://localhost:8080/"
        },
        "id": "ZTIAFQv1ap01",
        "outputId": "012f7014-e3e4-4dcc-bcd7-2fb26d5a397b"
      },
      "source": [
        "forest = RandomForestClassifier(random_state=4, criterion='gini', n_jobs=-1)\n",
        "forest.fit(X_train, y_train)"
      ],
      "execution_count": null,
      "outputs": [
        {
          "output_type": "execute_result",
          "data": {
            "text/plain": [
              "RandomForestClassifier(n_jobs=-1, random_state=4)"
            ]
          },
          "metadata": {},
          "execution_count": 62
        }
      ]
    },
    {
      "cell_type": "code",
      "metadata": {
        "id": "5cUOjxGMa20d"
      },
      "source": [
        "pred = forest.predict(X_test)"
      ],
      "execution_count": null,
      "outputs": []
    },
    {
      "cell_type": "code",
      "metadata": {
        "colab": {
          "base_uri": "https://localhost:8080/"
        },
        "id": "NZT1O5Qva89p",
        "outputId": "9b2d2c7f-fead-4307-b752-8cb2d901c1e4"
      },
      "source": [
        "report = classification_report(y_test, pred)\n",
        "print('Classification Report Random Forest - SMOTE Upsampling: \\n', report)"
      ],
      "execution_count": null,
      "outputs": [
        {
          "output_type": "stream",
          "name": "stdout",
          "text": [
            "Classification Report Random Forest - SMOTE Upsampling: \n",
            "               precision    recall  f1-score   support\n",
            "\n",
            "       Fatal       0.96      0.98      0.97    219668\n",
            "     Serious       0.94      0.83      0.88    218838\n",
            "      Slight       0.87      0.95      0.91    218348\n",
            "\n",
            "    accuracy                           0.92    656854\n",
            "   macro avg       0.92      0.92      0.92    656854\n",
            "weighted avg       0.92      0.92      0.92    656854\n",
            "\n"
          ]
        }
      ]
    },
    {
      "cell_type": "markdown",
      "metadata": {
        "id": "kSsBOuWuNMB0"
      },
      "source": [
        "## Feature importance and Results"
      ]
    },
    {
      "cell_type": "code",
      "metadata": {
        "id": "cCT_SFNjNQl5"
      },
      "source": [
        "from yellowbrick.model_selection import feature_importances, CVScores, RFECV, FeatureImportances"
      ],
      "execution_count": null,
      "outputs": []
    },
    {
      "cell_type": "code",
      "metadata": {
        "id": "cHfBSi5iNoog"
      },
      "source": [
        "def getFeatureImportance(model, X, y):\n",
        "    viz = FeatureImportances(model, labels = list(df2.columns))\n",
        "    viz.fit(X, y)"
      ],
      "execution_count": null,
      "outputs": []
    },
    {
      "cell_type": "code",
      "metadata": {
        "colab": {
          "base_uri": "https://localhost:8080/",
          "height": 347
        },
        "id": "4CI_ee9XNyoj",
        "outputId": "abee7038-2632-4db6-d704-a62c44f0a38b"
      },
      "source": [
        "getFeatureImportance(forest, X_resampled, y_resampled)"
      ],
      "execution_count": null,
      "outputs": [
        {
          "output_type": "display_data",
          "data": {
            "image/png": "[encoded data removed]",
            "text/plain": [
              "<Figure size 576x396 with 1 Axes>"
            ]
          },
          "metadata": {}
        }
      ]
    },
    {
      "cell_type": "markdown",
      "metadata": {
        "id": "HhChiosYw3kZ"
      },
      "source": [
        "### Coorelation between the important features and severity\\"
      ]
    },
    {
      "cell_type": "code",
      "metadata": {
        "colab": {
          "base_uri": "https://localhost:8080/",
          "height": 394
        },
        "id": "TsOkUepZ5YHJ",
        "outputId": "ffd0cd18-bcc8-4082-c9d7-f08f22d49ef8"
      },
      "source": [
        "arr=[]\n",
        "for i in ['Slight','Serious','Fatal']:\n",
        "  arr+=[df2.loc[df2['Accident_Severity']==i,'Engine_Capacity_.CC.'].mean()]\n",
        "d={'Accident_Severity':['Slight','Serious','Fatal'],'Mean':arr}\n",
        "eng_means=pd.DataFrame(data=d)\n",
        "plt.bar(eng_means['Accident_Severity'],eng_means['Mean'],color=['SkyBlue','Orange','LimeGreen'])\n",
        "plt.ylabel('Mean Engine CC')\n",
        "plt.xlabel('Accident Severity Levels')\n",
        "plt.title('Engine Capacity Mean for different accident severities')"
      ],
      "execution_count": null,
      "outputs": [
        {
          "output_type": "execute_result",
          "data": {
            "text/plain": [
              "Text(0.5, 1.0, 'Engine Capacity Mean for different accident severities')"
            ]
          },
          "metadata": {},
          "execution_count": 68
        },
        {
          "output_type": "display_data",
          "data": {
            "image/png": "[encoded data removed]",
            "text/plain": [
              "<Figure size 576x396 with 1 Axes>"
            ]
          },
          "metadata": {}
        }
      ]
    },
    {
      "cell_type": "code",
      "metadata": {
        "colab": {
          "base_uri": "https://localhost:8080/",
          "height": 394
        },
        "id": "hsf5pyla0imT",
        "outputId": "5c7fe45c-9074-4b9f-f9fa-1522d49ce276"
      },
      "source": [
        "arr=[]\n",
        "for i in ['Slight','Serious','Fatal']:\n",
        "  arr+=[df2.loc[df2['Accident_Severity']==i,'Age_of_Vehicle'].median()]\n",
        "d={'Accident_Severity':['Slight','Serious','Fatal'],'Median':arr}\n",
        "eng_means=pd.DataFrame(data=d)\n",
        "ax=plt.gca()\n",
        "ax.set_ylim([0,9])\n",
        "plt.bar(eng_means['Accident_Severity'],eng_means['Median'],color=['SkyBlue','Orange','LimeGreen'])\n",
        "plt.ylabel('Median Age of the Vehicle')\n",
        "plt.xlabel('Accident Severity Levels')\n",
        "plt.title('Median Age of Vehicles vs accident severities')"
      ],
      "execution_count": null,
      "outputs": [
        {
          "output_type": "execute_result",
          "data": {
            "text/plain": [
              "Text(0.5, 1.0, 'Median Age of Vehicles vs accident severities')"
            ]
          },
          "metadata": {},
          "execution_count": 69
        },
        {
          "output_type": "display_data",
          "data": {
            "image/png": "[encoded data removed]",
            "text/plain": [
              "<Figure size 576x396 with 1 Axes>"
            ]
          },
          "metadata": {}
        }
      ]
    },
    {
      "cell_type": "code",
      "metadata": {
        "colab": {
          "base_uri": "https://localhost:8080/",
          "height": 530
        },
        "id": "bF6DZ5mh3iey",
        "outputId": "0742952d-186a-4959-92ec-02e2ed652e87"
      },
      "source": [
        "\n",
        "arr=[]\n",
        "for i in ['Slight','Serious','Fatal']:\n",
        "  arr+=[df2.loc[(df2['Accident_Severity']==i) & (df2['Urban_or_Rural_Area']=='Urban'),'Speed_limit'].mean()]\n",
        "d={'Accident_Severity':['Slight','Serious','Fatal'],'Mean':arr}\n",
        "eng_means_1=pd.DataFrame(data=d)\n",
        "arr=[]\n",
        "for i in ['Slight','Serious','Fatal']:\n",
        "  arr+=[df2.loc[(df2['Accident_Severity']==i) & (df2['Urban_or_Rural_Area']=='Rural'),'Speed_limit'].mean()]\n",
        "d={'Accident_Severity':['Slight','Serious','Fatal'],'Mean':arr}\n",
        "eng_means_2=pd.DataFrame(data=d)\n",
        "pt_1=plt.figure(figsize=(12,8))\n",
        "ax=plt.subplot(1,1,1)\n",
        "ind=np.arange(3)\n",
        "plt.bar(ind+0.2,eng_means_1['Mean'],width=0.2,color='SkyBlue',align='center',label='Urban')\n",
        "plt.bar(ind+0.4,eng_means_2['Mean'],width=0.2,color='Orange',align='center',label='Rural')\n",
        "ax.set_xticks(ind+0.3)\n",
        "plt.ylabel('Mean Speed Limit')\n",
        "ax.set_xticklabels( ('Slight','Serious','Fatal') )\n",
        "plt.xlabel('Accident Severity Levels')\n",
        "plt.legend()\n",
        "plt.title('Mean Speed Limit vs Accident severities')"
      ],
      "execution_count": null,
      "outputs": [
        {
          "output_type": "execute_result",
          "data": {
            "text/plain": [
              "Text(0.5, 1.0, 'Mean Speed Limit vs Accident severities')"
            ]
          },
          "metadata": {},
          "execution_count": 70
        },
        {
          "output_type": "display_data",
          "data": {
            "image/png": "[encoded data removed]",
            "text/plain": [
              "<Figure size 864x576 with 1 Axes>"
            ]
          },
          "metadata": {}
        }
      ]
    },
    {
      "cell_type": "code",
      "metadata": {
        "colab": {
          "base_uri": "https://localhost:8080/",
          "height": 530
        },
        "id": "-13NwLESwvZg",
        "outputId": "a93e713a-8db9-449c-fe0c-d809c60c50ec"
      },
      "source": [
        "arr=[]\n",
        "for i in ['Slight','Serious','Fatal']:\n",
        "  n=len(df2.loc[df2['Accident_Severity']==i,'Speed_limit'])\n",
        "  arr+=[(len(df2.loc[(df2['Accident_Severity']==i) & (df2['Urban_or_Rural_Area']=='Urban'),'Speed_limit'])/n)*100]\n",
        "d={'Accident_Severity':['Slight','Serious','Fatal'],'Mean':arr}\n",
        "eng_means_1=pd.DataFrame(data=d)\n",
        "arr=[]\n",
        "for i in ['Slight','Serious','Fatal']:\n",
        "  n=len(df2.loc[df2['Accident_Severity']==i,'Speed_limit'])\n",
        "  arr+=[(len(df2.loc[(df2['Accident_Severity']==i) & (df2['Urban_or_Rural_Area']=='Rural'),'Speed_limit'])/n)*100]\n",
        "d={'Accident_Severity':['Slight','Serious','Fatal'],'Mean':arr}\n",
        "eng_means_2=pd.DataFrame(data=d)\n",
        "pt_1=plt.figure(figsize=(12,8))\n",
        "ax=plt.subplot(1,1,1)\n",
        "ind=np.arange(3)\n",
        "plt.bar(ind+0.2,eng_means_1['Mean'],width=0.2,color='SkyBlue',align='center',label='Urban')\n",
        "plt.bar(ind+0.4,eng_means_2['Mean'],width=0.2,color='Orange',align='center',label='Rural')\n",
        "ax.set_xticks(ind+0.3)\n",
        "plt.ylabel('Percentage of accidents')\n",
        "ax.set_xticklabels( ('Slight','Serious','Fatal') )\n",
        "plt.xlabel('Accident Severity Levels')\n",
        "plt.legend()\n",
        "plt.title('Percentage of accidents vs Accident severities')"
      ],
      "execution_count": null,
      "outputs": [
        {
          "output_type": "execute_result",
          "data": {
            "text/plain": [
              "Text(0.5, 1.0, 'Percentage of accidents vs Accident severities')"
            ]
          },
          "metadata": {},
          "execution_count": 71
        },
        {
          "output_type": "display_data",
          "data": {
            "image/png": "[encoded data removed]",
            "text/plain": [
              "<Figure size 864x576 with 1 Axes>"
            ]
          },
          "metadata": {}
        }
      ]
    },
    {
      "cell_type": "markdown",
      "metadata": {
        "id": "idWR7qzDXrav"
      },
      "source": [
        "## SVM"
      ]
    },
    {
      "cell_type": "code",
      "metadata": {
        "id": "HVM95iGahxv_"
      },
      "source": [
        "from sklearn.kernel_approximation import Nystroem\n",
        "nys = Nystroem()\n",
        "data = nys.fit_transform(X_train)"
      ],
      "execution_count": null,
      "outputs": []
    },
    {
      "cell_type": "code",
      "metadata": {
        "id": "lStbWvbAingu"
      },
      "source": [
        "from sklearn.svm import LinearSVC\n",
        "sgd = LinearSVC()\n",
        "model = sgd.fit(data, y_train)"
      ],
      "execution_count": null,
      "outputs": []
    },
    {
      "cell_type": "code",
      "metadata": {
        "id": "HfWXM0DkZEoU"
      },
      "source": [
        "test = nys.fit_transform(X_test)\n",
        "pred = model.predict(test)"
      ],
      "execution_count": null,
      "outputs": []
    },
    {
      "cell_type": "code",
      "metadata": {
        "colab": {
          "base_uri": "https://localhost:8080/"
        },
        "id": "7qigxbsZkhwS",
        "outputId": "76c77be1-69ff-4b40-fdba-ef620e2e837f"
      },
      "source": [
        "report = classification_report(y_test, pred)\n",
        "print('SVM: \\n', report)"
      ],
      "execution_count": null,
      "outputs": [
        {
          "output_type": "stream",
          "name": "stderr",
          "text": [
            "/usr/local/lib/python3.7/dist-packages/sklearn/metrics/_classification.py:1308: UndefinedMetricWarning: Precision and F-score are ill-defined and being set to 0.0 in labels with no predicted samples. Use `zero_division` parameter to control this behavior.\n",
            "  _warn_prf(average, modifier, msg_start, len(result))\n",
            "/usr/local/lib/python3.7/dist-packages/sklearn/metrics/_classification.py:1308: UndefinedMetricWarning: Precision and F-score are ill-defined and being set to 0.0 in labels with no predicted samples. Use `zero_division` parameter to control this behavior.\n",
            "  _warn_prf(average, modifier, msg_start, len(result))\n"
          ]
        },
        {
          "output_type": "stream",
          "name": "stdout",
          "text": [
            "SVM: \n",
            "               precision    recall  f1-score   support\n",
            "\n",
            "       Fatal       0.00      0.00      0.00      4127\n",
            "     Serious       0.10      0.00      0.00     39847\n",
            "      Slight       0.86      1.00      0.93    273689\n",
            "\n",
            "    accuracy                           0.86    317663\n",
            "   macro avg       0.32      0.33      0.31    317663\n",
            "weighted avg       0.75      0.86      0.80    317663\n",
            "\n"
          ]
        },
        {
          "output_type": "stream",
          "name": "stderr",
          "text": [
            "/usr/local/lib/python3.7/dist-packages/sklearn/metrics/_classification.py:1308: UndefinedMetricWarning: Precision and F-score are ill-defined and being set to 0.0 in labels with no predicted samples. Use `zero_division` parameter to control this behavior.\n",
            "  _warn_prf(average, modifier, msg_start, len(result))\n"
          ]
        }
      ]
    },
    {
      "cell_type": "markdown",
      "metadata": {
        "id": "Xx-_WmtaO4oo"
      },
      "source": [
        "# Hyperparameter tuning SVM"
      ]
    },
    {
      "cell_type": "code",
      "metadata": {
        "id": "dDmo2qjEO62O"
      },
      "source": [
        "# parameters = {\n",
        "#     \"C\":np.arange(1, 3.05, 0.05),\n",
        "#     \"tol\":[1e-3, 1e-2, 1e-1, 1, 1e1, 1e2, 1e3],\n",
        "#     \"class_weight\":[None, \"balanced\"],\n",
        "#     \"loss\" : ['hinge', 'squared_hinge'],\n",
        "# }\n",
        "\n",
        "# scores = [\"f1\", \"balanced_accuracy\"]\n",
        "\n",
        "# classifier = GridSearchCV(\n",
        "#     LinearSVC(random_state=0),\n",
        "#     param_grid=parameters,\n",
        "#     scoring=scores,\n",
        "#     refit=\"f1\",\n",
        "#     verbose=1,\n",
        "#     n_jobs=-1\n",
        "# )\n",
        "\n",
        "# classifier.fit(X_train, y_train)"
      ],
      "execution_count": null,
      "outputs": []
    }
  ]
}