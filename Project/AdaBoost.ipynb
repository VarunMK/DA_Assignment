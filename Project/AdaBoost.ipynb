{
  "nbformat": 4,
  "nbformat_minor": 0,
  "metadata": {
    "colab": {
      "name": "AdaBoost.ipynb",
      "provenance": []
    },
    "kernelspec": {
      "name": "python3",
      "display_name": "Python 3"
    },
    "language_info": {
      "name": "python"
    }
  },
  "cells": [
    {
      "cell_type": "markdown",
      "metadata": {
        "id": "ux_AaZVgPqE0"
      },
      "source": [
        "## Set up and pre processing"
      ]
    },
    {
      "cell_type": "markdown",
      "metadata": {
        "id": "5NPe96tooXur"
      },
      "source": [
        "Upload your kaggle.json API token file(You can get it from your accounts page)"
      ]
    },
    {
      "cell_type": "code",
      "metadata": {
        "colab": {
          "resources": {
            "http://localhost:8080/nbextensions/google.colab/files.js": {
              "data": "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",
              "ok": true,
              "headers": [
                [
                  "content-type",
                  "application/javascript"
                ]
              ],
              "status": 200,
              "status_text": ""
            }
          },
          "base_uri": "https://localhost:8080/",
          "height": 91
        },
        "id": "egp7vmZayu8F",
        "outputId": "eb985af8-d56a-4cee-fa27-434dd2879a86"
      },
      "source": [
        "from google.colab import files\n",
        "\n",
        "files.upload()"
      ],
      "execution_count": null,
      "outputs": [
        {
          "output_type": "display_data",
          "data": {
            "text/html": [
              "\n",
              "     <input type=\"file\" id=\"files-47ece09f-89e6-49b5-9b10-b24ae7e68b93\" name=\"files[]\" multiple disabled\n",
              "        style=\"border:none\" />\n",
              "     <output id=\"result-47ece09f-89e6-49b5-9b10-b24ae7e68b93\">\n",
              "      Upload widget is only available when the cell has been executed in the\n",
              "      current browser session. Please rerun this cell to enable.\n",
              "      </output>\n",
              "      <script src=\"/nbextensions/google.colab/files.js\"></script> "
            ],
            "text/plain": [
              "<IPython.core.display.HTML object>"
            ]
          },
          "metadata": {}
        },
        {
          "output_type": "stream",
          "name": "stdout",
          "text": [
            "Saving kaggle.json to kaggle.json\n"
          ]
        },
        {
          "output_type": "execute_result",
          "data": {
            "text/plain": [
              "{'kaggle.json': b'{\"username\":\"zotako\",\"key\":\"cd7d7e8bbf688035e9cbe2ac09c40e5f\"}'}"
            ]
          },
          "metadata": {},
          "execution_count": 1
        }
      ]
    },
    {
      "cell_type": "code",
      "metadata": {
        "id": "K37_2Ga-HVjD"
      },
      "source": [
        "import pandas as pd\n",
        "import numpy as np"
      ],
      "execution_count": null,
      "outputs": []
    },
    {
      "cell_type": "code",
      "metadata": {
        "id": "Ga_RTCoqHmWM"
      },
      "source": [
        "! pip install -q kaggle"
      ],
      "execution_count": null,
      "outputs": []
    },
    {
      "cell_type": "code",
      "metadata": {
        "id": "6Yh2CboSHomy"
      },
      "source": [
        "! mkdir ~/.kaggle"
      ],
      "execution_count": null,
      "outputs": []
    },
    {
      "cell_type": "code",
      "metadata": {
        "id": "RnEX4-xrHqJG"
      },
      "source": [
        "! cp kaggle.json ~/.kaggle/"
      ],
      "execution_count": null,
      "outputs": []
    },
    {
      "cell_type": "code",
      "metadata": {
        "id": "8Fjj_D0KPw6D"
      },
      "source": [
        "! chmod 600 ~/.kaggle/kaggle.json"
      ],
      "execution_count": null,
      "outputs": []
    },
    {
      "cell_type": "code",
      "metadata": {
        "colab": {
          "base_uri": "https://localhost:8080/"
        },
        "id": "KNR4vHfVPyEp",
        "outputId": "791692be-76bf-4933-e7bd-2e73c8db22fc"
      },
      "source": [
        "!kaggle datasets download -d tsiaras/uk-road-safety-accidents-and-vehicles"
      ],
      "execution_count": null,
      "outputs": [
        {
          "output_type": "stream",
          "name": "stdout",
          "text": [
            "Downloading uk-road-safety-accidents-and-vehicles.zip to /content\n",
            " 91% 130M/142M [00:01<00:00, 104MB/s] \n",
            "100% 142M/142M [00:01<00:00, 89.4MB/s]\n"
          ]
        }
      ]
    },
    {
      "cell_type": "code",
      "metadata": {
        "colab": {
          "base_uri": "https://localhost:8080/"
        },
        "id": "6-0TbnVVP1r7",
        "outputId": "97ea358a-1104-493f-e2a0-816f74ea475d"
      },
      "source": [
        "! mkdir train\n",
        "! unzip uk-road-safety-accidents-and-vehicles.zip -d train"
      ],
      "execution_count": null,
      "outputs": [
        {
          "output_type": "stream",
          "name": "stdout",
          "text": [
            "Archive:  uk-road-safety-accidents-and-vehicles.zip\n",
            "  inflating: train/Accident_Information.csv  \n",
            "  inflating: train/Vehicle_Information.csv  \n"
          ]
        }
      ]
    },
    {
      "cell_type": "code",
      "metadata": {
        "id": "ymhu1EXVP3Ja",
        "colab": {
          "base_uri": "https://localhost:8080/"
        },
        "outputId": "03ca3586-d420-41c6-c1d6-7f1f6ff97cd5"
      },
      "source": [
        "import os\n",
        "for dirname, _, filenames in os.walk('train'):\n",
        "    for filename in filenames:\n",
        "        print(os.path.join(dirname, filename))\n"
      ],
      "execution_count": null,
      "outputs": [
        {
          "output_type": "stream",
          "name": "stdout",
          "text": [
            "train/Vehicle_Information.csv\n",
            "train/Accident_Information.csv\n"
          ]
        }
      ]
    },
    {
      "cell_type": "code",
      "metadata": {
        "colab": {
          "base_uri": "https://localhost:8080/"
        },
        "id": "LNdpq12sTWNm",
        "outputId": "262da2bd-eba2-4aa0-d1f4-5982e63038ae"
      },
      "source": [
        "accidents=pd.read_csv(\"train/Accident_Information.csv\")"
      ],
      "execution_count": null,
      "outputs": [
        {
          "output_type": "stream",
          "name": "stderr",
          "text": [
            "/usr/local/lib/python3.7/dist-packages/IPython/core/interactiveshell.py:2718: DtypeWarning: Columns (0) have mixed types.Specify dtype option on import or set low_memory=False.\n",
            "  interactivity=interactivity, compiler=compiler, result=result)\n"
          ]
        }
      ]
    },
    {
      "cell_type": "code",
      "metadata": {
        "id": "sDYy5QMVP7fp",
        "colab": {
          "base_uri": "https://localhost:8080/",
          "height": 365
        },
        "outputId": "a2d2d2b7-8ff6-4c85-d28f-3bb4179772b1"
      },
      "source": [
        "acc = pd.read_csv(\"train/Accident_Information.csv\")\n",
        "acc.head()"
      ],
      "execution_count": null,
      "outputs": [
        {
          "output_type": "stream",
          "name": "stderr",
          "text": [
            "/usr/local/lib/python3.7/dist-packages/IPython/core/interactiveshell.py:2718: DtypeWarning: Columns (0) have mixed types.Specify dtype option on import or set low_memory=False.\n",
            "  interactivity=interactivity, compiler=compiler, result=result)\n"
          ]
        },
        {
          "output_type": "execute_result",
          "data": {
            "text/html": [
              "<div>\n",
              "<style scoped>\n",
              "    .dataframe tbody tr th:only-of-type {\n",
              "        vertical-align: middle;\n",
              "    }\n",
              "\n",
              "    .dataframe tbody tr th {\n",
              "        vertical-align: top;\n",
              "    }\n",
              "\n",
              "    .dataframe thead th {\n",
              "        text-align: right;\n",
              "    }\n",
              "</style>\n",
              "<table border=\"1\" class=\"dataframe\">\n",
              "  <thead>\n",
              "    <tr style=\"text-align: right;\">\n",
              "      <th></th>\n",
              "      <th>Accident_Index</th>\n",
              "      <th>1st_Road_Class</th>\n",
              "      <th>1st_Road_Number</th>\n",
              "      <th>2nd_Road_Class</th>\n",
              "      <th>2nd_Road_Number</th>\n",
              "      <th>Accident_Severity</th>\n",
              "      <th>Carriageway_Hazards</th>\n",
              "      <th>Date</th>\n",
              "      <th>Day_of_Week</th>\n",
              "      <th>Did_Police_Officer_Attend_Scene_of_Accident</th>\n",
              "      <th>Junction_Control</th>\n",
              "      <th>Junction_Detail</th>\n",
              "      <th>Latitude</th>\n",
              "      <th>Light_Conditions</th>\n",
              "      <th>Local_Authority_(District)</th>\n",
              "      <th>Local_Authority_(Highway)</th>\n",
              "      <th>Location_Easting_OSGR</th>\n",
              "      <th>Location_Northing_OSGR</th>\n",
              "      <th>Longitude</th>\n",
              "      <th>LSOA_of_Accident_Location</th>\n",
              "      <th>Number_of_Casualties</th>\n",
              "      <th>Number_of_Vehicles</th>\n",
              "      <th>Pedestrian_Crossing-Human_Control</th>\n",
              "      <th>Pedestrian_Crossing-Physical_Facilities</th>\n",
              "      <th>Police_Force</th>\n",
              "      <th>Road_Surface_Conditions</th>\n",
              "      <th>Road_Type</th>\n",
              "      <th>Special_Conditions_at_Site</th>\n",
              "      <th>Speed_limit</th>\n",
              "      <th>Time</th>\n",
              "      <th>Urban_or_Rural_Area</th>\n",
              "      <th>Weather_Conditions</th>\n",
              "      <th>Year</th>\n",
              "      <th>InScotland</th>\n",
              "    </tr>\n",
              "  </thead>\n",
              "  <tbody>\n",
              "    <tr>\n",
              "      <th>0</th>\n",
              "      <td>200501BS00001</td>\n",
              "      <td>A</td>\n",
              "      <td>3218.0</td>\n",
              "      <td>NaN</td>\n",
              "      <td>0.0</td>\n",
              "      <td>Serious</td>\n",
              "      <td>None</td>\n",
              "      <td>2005-01-04</td>\n",
              "      <td>Tuesday</td>\n",
              "      <td>1.0</td>\n",
              "      <td>Data missing or out of range</td>\n",
              "      <td>Not at junction or within 20 metres</td>\n",
              "      <td>51.489096</td>\n",
              "      <td>Daylight</td>\n",
              "      <td>Kensington and Chelsea</td>\n",
              "      <td>Kensington and Chelsea</td>\n",
              "      <td>525680.0</td>\n",
              "      <td>178240.0</td>\n",
              "      <td>-0.191170</td>\n",
              "      <td>E01002849</td>\n",
              "      <td>1</td>\n",
              "      <td>1</td>\n",
              "      <td>0.0</td>\n",
              "      <td>1.0</td>\n",
              "      <td>Metropolitan Police</td>\n",
              "      <td>Wet or damp</td>\n",
              "      <td>Single carriageway</td>\n",
              "      <td>None</td>\n",
              "      <td>30.0</td>\n",
              "      <td>17:42</td>\n",
              "      <td>Urban</td>\n",
              "      <td>Raining no high winds</td>\n",
              "      <td>2005</td>\n",
              "      <td>No</td>\n",
              "    </tr>\n",
              "    <tr>\n",
              "      <th>1</th>\n",
              "      <td>200501BS00002</td>\n",
              "      <td>B</td>\n",
              "      <td>450.0</td>\n",
              "      <td>C</td>\n",
              "      <td>0.0</td>\n",
              "      <td>Slight</td>\n",
              "      <td>None</td>\n",
              "      <td>2005-01-05</td>\n",
              "      <td>Wednesday</td>\n",
              "      <td>1.0</td>\n",
              "      <td>Auto traffic signal</td>\n",
              "      <td>Crossroads</td>\n",
              "      <td>51.520075</td>\n",
              "      <td>Darkness - lights lit</td>\n",
              "      <td>Kensington and Chelsea</td>\n",
              "      <td>Kensington and Chelsea</td>\n",
              "      <td>524170.0</td>\n",
              "      <td>181650.0</td>\n",
              "      <td>-0.211708</td>\n",
              "      <td>E01002909</td>\n",
              "      <td>1</td>\n",
              "      <td>1</td>\n",
              "      <td>0.0</td>\n",
              "      <td>5.0</td>\n",
              "      <td>Metropolitan Police</td>\n",
              "      <td>Dry</td>\n",
              "      <td>Dual carriageway</td>\n",
              "      <td>None</td>\n",
              "      <td>30.0</td>\n",
              "      <td>17:36</td>\n",
              "      <td>Urban</td>\n",
              "      <td>Fine no high winds</td>\n",
              "      <td>2005</td>\n",
              "      <td>No</td>\n",
              "    </tr>\n",
              "    <tr>\n",
              "      <th>2</th>\n",
              "      <td>200501BS00003</td>\n",
              "      <td>C</td>\n",
              "      <td>0.0</td>\n",
              "      <td>NaN</td>\n",
              "      <td>0.0</td>\n",
              "      <td>Slight</td>\n",
              "      <td>None</td>\n",
              "      <td>2005-01-06</td>\n",
              "      <td>Thursday</td>\n",
              "      <td>1.0</td>\n",
              "      <td>Data missing or out of range</td>\n",
              "      <td>Not at junction or within 20 metres</td>\n",
              "      <td>51.525301</td>\n",
              "      <td>Darkness - lights lit</td>\n",
              "      <td>Kensington and Chelsea</td>\n",
              "      <td>Kensington and Chelsea</td>\n",
              "      <td>524520.0</td>\n",
              "      <td>182240.0</td>\n",
              "      <td>-0.206458</td>\n",
              "      <td>E01002857</td>\n",
              "      <td>1</td>\n",
              "      <td>2</td>\n",
              "      <td>0.0</td>\n",
              "      <td>0.0</td>\n",
              "      <td>Metropolitan Police</td>\n",
              "      <td>Dry</td>\n",
              "      <td>Single carriageway</td>\n",
              "      <td>None</td>\n",
              "      <td>30.0</td>\n",
              "      <td>00:15</td>\n",
              "      <td>Urban</td>\n",
              "      <td>Fine no high winds</td>\n",
              "      <td>2005</td>\n",
              "      <td>No</td>\n",
              "    </tr>\n",
              "    <tr>\n",
              "      <th>3</th>\n",
              "      <td>200501BS00004</td>\n",
              "      <td>A</td>\n",
              "      <td>3220.0</td>\n",
              "      <td>NaN</td>\n",
              "      <td>0.0</td>\n",
              "      <td>Slight</td>\n",
              "      <td>None</td>\n",
              "      <td>2005-01-07</td>\n",
              "      <td>Friday</td>\n",
              "      <td>1.0</td>\n",
              "      <td>Data missing or out of range</td>\n",
              "      <td>Not at junction or within 20 metres</td>\n",
              "      <td>51.482442</td>\n",
              "      <td>Daylight</td>\n",
              "      <td>Kensington and Chelsea</td>\n",
              "      <td>Kensington and Chelsea</td>\n",
              "      <td>526900.0</td>\n",
              "      <td>177530.0</td>\n",
              "      <td>-0.173862</td>\n",
              "      <td>E01002840</td>\n",
              "      <td>1</td>\n",
              "      <td>1</td>\n",
              "      <td>0.0</td>\n",
              "      <td>0.0</td>\n",
              "      <td>Metropolitan Police</td>\n",
              "      <td>Dry</td>\n",
              "      <td>Single carriageway</td>\n",
              "      <td>None</td>\n",
              "      <td>30.0</td>\n",
              "      <td>10:35</td>\n",
              "      <td>Urban</td>\n",
              "      <td>Fine no high winds</td>\n",
              "      <td>2005</td>\n",
              "      <td>No</td>\n",
              "    </tr>\n",
              "    <tr>\n",
              "      <th>4</th>\n",
              "      <td>200501BS00005</td>\n",
              "      <td>Unclassified</td>\n",
              "      <td>0.0</td>\n",
              "      <td>NaN</td>\n",
              "      <td>0.0</td>\n",
              "      <td>Slight</td>\n",
              "      <td>None</td>\n",
              "      <td>2005-01-10</td>\n",
              "      <td>Monday</td>\n",
              "      <td>1.0</td>\n",
              "      <td>Data missing or out of range</td>\n",
              "      <td>Not at junction or within 20 metres</td>\n",
              "      <td>51.495752</td>\n",
              "      <td>Darkness - lighting unknown</td>\n",
              "      <td>Kensington and Chelsea</td>\n",
              "      <td>Kensington and Chelsea</td>\n",
              "      <td>528060.0</td>\n",
              "      <td>179040.0</td>\n",
              "      <td>-0.156618</td>\n",
              "      <td>E01002863</td>\n",
              "      <td>1</td>\n",
              "      <td>1</td>\n",
              "      <td>0.0</td>\n",
              "      <td>0.0</td>\n",
              "      <td>Metropolitan Police</td>\n",
              "      <td>Wet or damp</td>\n",
              "      <td>Single carriageway</td>\n",
              "      <td>None</td>\n",
              "      <td>30.0</td>\n",
              "      <td>21:13</td>\n",
              "      <td>Urban</td>\n",
              "      <td>Fine no high winds</td>\n",
              "      <td>2005</td>\n",
              "      <td>No</td>\n",
              "    </tr>\n",
              "  </tbody>\n",
              "</table>\n",
              "</div>"
            ],
            "text/plain": [
              "  Accident_Index 1st_Road_Class  ...  Year InScotland\n",
              "0  200501BS00001              A  ...  2005         No\n",
              "1  200501BS00002              B  ...  2005         No\n",
              "2  200501BS00003              C  ...  2005         No\n",
              "3  200501BS00004              A  ...  2005         No\n",
              "4  200501BS00005   Unclassified  ...  2005         No\n",
              "\n",
              "[5 rows x 34 columns]"
            ]
          },
          "metadata": {},
          "execution_count": 11
        }
      ]
    },
    {
      "cell_type": "code",
      "metadata": {
        "id": "7VxBUBvaP_OY",
        "colab": {
          "base_uri": "https://localhost:8080/"
        },
        "outputId": "0fbb62fb-b39c-4162-e33e-1046add8f93d"
      },
      "source": [
        "veh = pd.read_csv(\"train/Vehicle_Information.csv\", encoding='ISO-8859-1')\n",
        "veh.columns"
      ],
      "execution_count": null,
      "outputs": [
        {
          "output_type": "execute_result",
          "data": {
            "text/plain": [
              "Index(['Accident_Index', 'Age_Band_of_Driver', 'Age_of_Vehicle',\n",
              "       'Driver_Home_Area_Type', 'Driver_IMD_Decile', 'Engine_Capacity_.CC.',\n",
              "       'Hit_Object_in_Carriageway', 'Hit_Object_off_Carriageway',\n",
              "       'Journey_Purpose_of_Driver', 'Junction_Location', 'make', 'model',\n",
              "       'Propulsion_Code', 'Sex_of_Driver', 'Skidding_and_Overturning',\n",
              "       'Towing_and_Articulation', 'Vehicle_Leaving_Carriageway',\n",
              "       'Vehicle_Location.Restricted_Lane', 'Vehicle_Manoeuvre',\n",
              "       'Vehicle_Reference', 'Vehicle_Type', 'Was_Vehicle_Left_Hand_Drive',\n",
              "       'X1st_Point_of_Impact', 'Year'],\n",
              "      dtype='object')"
            ]
          },
          "metadata": {},
          "execution_count": 12
        }
      ]
    },
    {
      "cell_type": "code",
      "metadata": {
        "id": "tL5h0XwaSd2V",
        "colab": {
          "base_uri": "https://localhost:8080/"
        },
        "outputId": "932de646-1983-407c-9863-f1fdc49798f4"
      },
      "source": [
        "acc.shape"
      ],
      "execution_count": null,
      "outputs": [
        {
          "output_type": "execute_result",
          "data": {
            "text/plain": [
              "(2047256, 34)"
            ]
          },
          "metadata": {},
          "execution_count": 13
        }
      ]
    },
    {
      "cell_type": "code",
      "metadata": {
        "id": "C6L0HDLoSxSi",
        "colab": {
          "base_uri": "https://localhost:8080/"
        },
        "outputId": "4168383d-1139-4fcd-f498-a3c3051c61d8"
      },
      "source": [
        "veh.shape"
      ],
      "execution_count": null,
      "outputs": [
        {
          "output_type": "execute_result",
          "data": {
            "text/plain": [
              "(2177205, 24)"
            ]
          },
          "metadata": {},
          "execution_count": 14
        }
      ]
    },
    {
      "cell_type": "code",
      "metadata": {
        "id": "havfTpxQQBMU",
        "colab": {
          "base_uri": "https://localhost:8080/"
        },
        "outputId": "654d9606-3185-4274-d046-6666b86013f0"
      },
      "source": [
        "df = pd.merge(accidents, veh, how = 'inner', on = 'Accident_Index' )\n",
        "df.columns"
      ],
      "execution_count": null,
      "outputs": [
        {
          "output_type": "execute_result",
          "data": {
            "text/plain": [
              "Index(['Accident_Index', '1st_Road_Class', '1st_Road_Number', '2nd_Road_Class',\n",
              "       '2nd_Road_Number', 'Accident_Severity', 'Carriageway_Hazards', 'Date',\n",
              "       'Day_of_Week', 'Did_Police_Officer_Attend_Scene_of_Accident',\n",
              "       'Junction_Control', 'Junction_Detail', 'Latitude', 'Light_Conditions',\n",
              "       'Local_Authority_(District)', 'Local_Authority_(Highway)',\n",
              "       'Location_Easting_OSGR', 'Location_Northing_OSGR', 'Longitude',\n",
              "       'LSOA_of_Accident_Location', 'Number_of_Casualties',\n",
              "       'Number_of_Vehicles', 'Pedestrian_Crossing-Human_Control',\n",
              "       'Pedestrian_Crossing-Physical_Facilities', 'Police_Force',\n",
              "       'Road_Surface_Conditions', 'Road_Type', 'Special_Conditions_at_Site',\n",
              "       'Speed_limit', 'Time', 'Urban_or_Rural_Area', 'Weather_Conditions',\n",
              "       'Year_x', 'InScotland', 'Age_Band_of_Driver', 'Age_of_Vehicle',\n",
              "       'Driver_Home_Area_Type', 'Driver_IMD_Decile', 'Engine_Capacity_.CC.',\n",
              "       'Hit_Object_in_Carriageway', 'Hit_Object_off_Carriageway',\n",
              "       'Journey_Purpose_of_Driver', 'Junction_Location', 'make', 'model',\n",
              "       'Propulsion_Code', 'Sex_of_Driver', 'Skidding_and_Overturning',\n",
              "       'Towing_and_Articulation', 'Vehicle_Leaving_Carriageway',\n",
              "       'Vehicle_Location.Restricted_Lane', 'Vehicle_Manoeuvre',\n",
              "       'Vehicle_Reference', 'Vehicle_Type', 'Was_Vehicle_Left_Hand_Drive',\n",
              "       'X1st_Point_of_Impact', 'Year_y'],\n",
              "      dtype='object')"
            ]
          },
          "metadata": {},
          "execution_count": 15
        }
      ]
    },
    {
      "cell_type": "code",
      "metadata": {
        "id": "y27K5ovAUFUR",
        "colab": {
          "base_uri": "https://localhost:8080/"
        },
        "outputId": "80f15cdc-fd47-4f32-e4f6-1adf5901f666"
      },
      "source": [
        "df.dropna()\n",
        "df.info()"
      ],
      "execution_count": null,
      "outputs": [
        {
          "output_type": "stream",
          "name": "stdout",
          "text": [
            "<class 'pandas.core.frame.DataFrame'>\n",
            "Int64Index: 2058408 entries, 0 to 2058407\n",
            "Data columns (total 57 columns):\n",
            " #   Column                                       Dtype  \n",
            "---  ------                                       -----  \n",
            " 0   Accident_Index                               object \n",
            " 1   1st_Road_Class                               object \n",
            " 2   1st_Road_Number                              float64\n",
            " 3   2nd_Road_Class                               object \n",
            " 4   2nd_Road_Number                              float64\n",
            " 5   Accident_Severity                            object \n",
            " 6   Carriageway_Hazards                          object \n",
            " 7   Date                                         object \n",
            " 8   Day_of_Week                                  object \n",
            " 9   Did_Police_Officer_Attend_Scene_of_Accident  float64\n",
            " 10  Junction_Control                             object \n",
            " 11  Junction_Detail                              object \n",
            " 12  Latitude                                     float64\n",
            " 13  Light_Conditions                             object \n",
            " 14  Local_Authority_(District)                   object \n",
            " 15  Local_Authority_(Highway)                    object \n",
            " 16  Location_Easting_OSGR                        float64\n",
            " 17  Location_Northing_OSGR                       float64\n",
            " 18  Longitude                                    float64\n",
            " 19  LSOA_of_Accident_Location                    object \n",
            " 20  Number_of_Casualties                         int64  \n",
            " 21  Number_of_Vehicles                           int64  \n",
            " 22  Pedestrian_Crossing-Human_Control            float64\n",
            " 23  Pedestrian_Crossing-Physical_Facilities      float64\n",
            " 24  Police_Force                                 object \n",
            " 25  Road_Surface_Conditions                      object \n",
            " 26  Road_Type                                    object \n",
            " 27  Special_Conditions_at_Site                   object \n",
            " 28  Speed_limit                                  float64\n",
            " 29  Time                                         object \n",
            " 30  Urban_or_Rural_Area                          object \n",
            " 31  Weather_Conditions                           object \n",
            " 32  Year_x                                       int64  \n",
            " 33  InScotland                                   object \n",
            " 34  Age_Band_of_Driver                           object \n",
            " 35  Age_of_Vehicle                               float64\n",
            " 36  Driver_Home_Area_Type                        object \n",
            " 37  Driver_IMD_Decile                            float64\n",
            " 38  Engine_Capacity_.CC.                         float64\n",
            " 39  Hit_Object_in_Carriageway                    object \n",
            " 40  Hit_Object_off_Carriageway                   object \n",
            " 41  Journey_Purpose_of_Driver                    object \n",
            " 42  Junction_Location                            object \n",
            " 43  make                                         object \n",
            " 44  model                                        object \n",
            " 45  Propulsion_Code                              object \n",
            " 46  Sex_of_Driver                                object \n",
            " 47  Skidding_and_Overturning                     object \n",
            " 48  Towing_and_Articulation                      object \n",
            " 49  Vehicle_Leaving_Carriageway                  object \n",
            " 50  Vehicle_Location.Restricted_Lane             float64\n",
            " 51  Vehicle_Manoeuvre                            object \n",
            " 52  Vehicle_Reference                            int64  \n",
            " 53  Vehicle_Type                                 object \n",
            " 54  Was_Vehicle_Left_Hand_Drive                  object \n",
            " 55  X1st_Point_of_Impact                         object \n",
            " 56  Year_y                                       int64  \n",
            "dtypes: float64(14), int64(5), object(38)\n",
            "memory usage: 910.9+ MB\n"
          ]
        }
      ]
    },
    {
      "cell_type": "code",
      "metadata": {
        "id": "awVm52YnUMGP"
      },
      "source": [
        "df = df[['1st_Road_Class', 'Junction_Detail', \"Accident_Index\", 'Accident_Severity', 'Carriageway_Hazards', 'Date',\n",
        "       'Day_of_Week','Latitude', 'Light_Conditions',  'Longitude',\n",
        "       'LSOA_of_Accident_Location', 'Number_of_Casualties',\n",
        "       'Number_of_Vehicles', \n",
        "       'Road_Surface_Conditions', 'Road_Type', 'Special_Conditions_at_Site',\n",
        "       'Speed_limit', 'Time', 'Urban_or_Rural_Area', 'Weather_Conditions',\n",
        "       'Year_x','Age_Band_of_Driver', 'Age_of_Vehicle', 'Engine_Capacity_.CC.', 'Skidding_and_Overturning',  'Vehicle_Type', 'Hit_Object_in_Carriageway', 'Hit_Object_off_Carriageway']]"
      ],
      "execution_count": null,
      "outputs": []
    },
    {
      "cell_type": "code",
      "metadata": {
        "id": "QplVt-xtQDCM",
        "colab": {
          "base_uri": "https://localhost:8080/"
        },
        "outputId": "1665c213-b6dc-4e27-a3f9-ce8f5e57675a"
      },
      "source": [
        "df.dropna(how='any', inplace=True)\n",
        "df.shape"
      ],
      "execution_count": null,
      "outputs": [
        {
          "output_type": "execute_result",
          "data": {
            "text/plain": [
              "(1588313, 28)"
            ]
          },
          "metadata": {},
          "execution_count": 18
        }
      ]
    },
    {
      "cell_type": "code",
      "metadata": {
        "id": "7AdjbMj_QFYN",
        "colab": {
          "base_uri": "https://localhost:8080/"
        },
        "outputId": "ce337202-e479-42e9-8a67-a526bd5eff2a"
      },
      "source": [
        "df.isnull().sum()"
      ],
      "execution_count": null,
      "outputs": [
        {
          "output_type": "execute_result",
          "data": {
            "text/plain": [
              "1st_Road_Class                0\n",
              "Junction_Detail               0\n",
              "Accident_Index                0\n",
              "Accident_Severity             0\n",
              "Carriageway_Hazards           0\n",
              "Date                          0\n",
              "Day_of_Week                   0\n",
              "Latitude                      0\n",
              "Light_Conditions              0\n",
              "Longitude                     0\n",
              "LSOA_of_Accident_Location     0\n",
              "Number_of_Casualties          0\n",
              "Number_of_Vehicles            0\n",
              "Road_Surface_Conditions       0\n",
              "Road_Type                     0\n",
              "Special_Conditions_at_Site    0\n",
              "Speed_limit                   0\n",
              "Time                          0\n",
              "Urban_or_Rural_Area           0\n",
              "Weather_Conditions            0\n",
              "Year_x                        0\n",
              "Age_Band_of_Driver            0\n",
              "Age_of_Vehicle                0\n",
              "Engine_Capacity_.CC.          0\n",
              "Skidding_and_Overturning      0\n",
              "Vehicle_Type                  0\n",
              "Hit_Object_in_Carriageway     0\n",
              "Hit_Object_off_Carriageway    0\n",
              "dtype: int64"
            ]
          },
          "metadata": {},
          "execution_count": 19
        }
      ]
    },
    {
      "cell_type": "code",
      "metadata": {
        "id": "wA4ggypnU4Nf"
      },
      "source": [
        "df2 = df[['Time', 'Day_of_Week', 'Light_Conditions', 'Number_of_Casualties', 'Number_of_Vehicles', 'Road_Surface_Conditions', 'Road_Type', \n",
        "          'Speed_limit', 'Urban_or_Rural_Area', 'Weather_Conditions', 'Age_of_Vehicle', 'Engine_Capacity_.CC.',\n",
        "          'Skidding_and_Overturning', 'Hit_Object_in_Carriageway','Hit_Object_off_Carriageway','Accident_Severity']]"
      ],
      "execution_count": null,
      "outputs": []
    },
    {
      "cell_type": "code",
      "metadata": {
        "id": "zpCWGg__QXvN",
        "colab": {
          "base_uri": "https://localhost:8080/"
        },
        "outputId": "fa028428-8ca6-483a-d0e1-9a901dad3efe"
      },
      "source": [
        "df2['Hour']=df2['Time'].str[0:2]\n",
        "df2=df2.dropna(subset=['Hour'])\n",
        "df2['Hour']=pd.to_numeric(df2['Hour'])\n",
        "def converthrstocategory(hrs):\n",
        "    if(hrs<6):\n",
        "        return 1\n",
        "    elif(hrs>=6 and hrs<11):\n",
        "        return 2\n",
        "    elif(hrs>=11 and hrs<16):\n",
        "        return 3\n",
        "    elif(hrs>=16 and hrs<20):\n",
        "        return 4\n",
        "    elif(hrs>=20 and hrs<=23):\n",
        "        return 5\n",
        "df2['Hrs_category']=df2['Hour'].apply(converthrstocategory)\n",
        "df2['Hrs_category']"
      ],
      "execution_count": null,
      "outputs": [
        {
          "output_type": "stream",
          "name": "stderr",
          "text": [
            "/usr/local/lib/python3.7/dist-packages/ipykernel_launcher.py:1: SettingWithCopyWarning: \n",
            "A value is trying to be set on a copy of a slice from a DataFrame.\n",
            "Try using .loc[row_indexer,col_indexer] = value instead\n",
            "\n",
            "See the caveats in the documentation: https://pandas.pydata.org/pandas-docs/stable/user_guide/indexing.html#returning-a-view-versus-a-copy\n",
            "  \"\"\"Entry point for launching an IPython kernel.\n"
          ]
        },
        {
          "output_type": "execute_result",
          "data": {
            "text/plain": [
              "0          4\n",
              "1          1\n",
              "2          2\n",
              "3          5\n",
              "4          3\n",
              "          ..\n",
              "2043662    3\n",
              "2043663    3\n",
              "2043665    2\n",
              "2043667    1\n",
              "2043670    4\n",
              "Name: Hrs_category, Length: 1588313, dtype: int64"
            ]
          },
          "metadata": {},
          "execution_count": 21
        }
      ]
    },
    {
      "cell_type": "code",
      "metadata": {
        "id": "j3JJ2CGtQa-1"
      },
      "source": [
        "df2.drop(['Time','Hour'], axis=1, inplace=True)\n",
        "for i in ['Day_of_Week', 'Light_Conditions', 'Road_Surface_Conditions', 'Road_Type', \n",
        "          'Urban_or_Rural_Area', 'Weather_Conditions', \n",
        "          'Skidding_and_Overturning', 'Hit_Object_in_Carriageway','Hit_Object_off_Carriageway']:\n",
        "          df2[i] = df2[i].astype('category')"
      ],
      "execution_count": null,
      "outputs": []
    },
    {
      "cell_type": "code",
      "metadata": {
        "id": "QAoB3tv0QfN_"
      },
      "source": [
        "df2['Accident_Severity'] = df2['Accident_Severity'].astype('category')"
      ],
      "execution_count": null,
      "outputs": []
    },
    {
      "cell_type": "code",
      "metadata": {
        "id": "QnmWNdLwQlk9"
      },
      "source": [
        "df2 = df2[[c for c in df2 if c not in ['Accident_Severity']] \n",
        "       + ['Accident_Severity']]"
      ],
      "execution_count": null,
      "outputs": []
    },
    {
      "cell_type": "code",
      "metadata": {
        "id": "Xwfvdr0HQnG_"
      },
      "source": [
        "y = df2['Accident_Severity']\n",
        "X = df2.iloc[:,:-1]"
      ],
      "execution_count": null,
      "outputs": []
    },
    {
      "cell_type": "code",
      "metadata": {
        "id": "1aakzeHIQopJ"
      },
      "source": [
        "from sklearn.model_selection import train_test_split\n",
        "from sklearn.preprocessing import LabelEncoder\n",
        "from sklearn.preprocessing import OrdinalEncoder\n",
        "from sklearn.feature_selection import SelectKBest\n",
        "from sklearn.feature_selection import chi2"
      ],
      "execution_count": null,
      "outputs": []
    },
    {
      "cell_type": "code",
      "metadata": {
        "id": "5QvrfMxYQqvd"
      },
      "source": [
        "oe = OrdinalEncoder()\n",
        "oe.fit(X)\n",
        "X = oe.transform(X)"
      ],
      "execution_count": null,
      "outputs": []
    },
    {
      "cell_type": "code",
      "metadata": {
        "id": "SkCpCDNRQs64"
      },
      "source": [
        "X_train, X_test, y_train, y_test = train_test_split(X, y, test_size=0.1, random_state=1, stratify = y)\n"
      ],
      "execution_count": null,
      "outputs": []
    },
    {
      "cell_type": "code",
      "metadata": {
        "id": "1AjsRHPNQujh"
      },
      "source": [
        "from imblearn.over_sampling import SMOTE\n"
      ],
      "execution_count": null,
      "outputs": []
    },
    {
      "cell_type": "code",
      "metadata": {
        "id": "yWApW7UVQzVz"
      },
      "source": [
        "#X_resampled, y_resampled = SMOTE().fit_resample(X_train, y_train)"
      ],
      "execution_count": null,
      "outputs": []
    },
    {
      "cell_type": "code",
      "metadata": {
        "id": "0Oy9Ql2dQ287"
      },
      "source": [
        "#X_train, X_test, y_train, y_test = train_test_split(X_resampled, y_resampled, test_size=0.2, random_state=1, stratify = y_resampled)\n"
      ],
      "execution_count": null,
      "outputs": []
    },
    {
      "cell_type": "code",
      "metadata": {
        "id": "ohFuepB6WhFX",
        "colab": {
          "base_uri": "https://localhost:8080/"
        },
        "outputId": "e0c17c79-f55e-45f1-88f1-3d5eeccb35e3"
      },
      "source": [
        "X_train.shape"
      ],
      "execution_count": null,
      "outputs": [
        {
          "output_type": "execute_result",
          "data": {
            "text/plain": [
              "(1429481, 15)"
            ]
          },
          "metadata": {},
          "execution_count": 32
        }
      ]
    },
    {
      "cell_type": "markdown",
      "metadata": {
        "id": "KNl8zH0EKkke"
      },
      "source": [
        "# AdaBoost"
      ]
    },
    {
      "cell_type": "code",
      "metadata": {
        "colab": {
          "base_uri": "https://localhost:8080/"
        },
        "id": "26UtRVq3KmqH",
        "outputId": "edb613d5-2886-436a-86ea-33a809c4053c"
      },
      "source": [
        "X_train.shape"
      ],
      "execution_count": null,
      "outputs": [
        {
          "output_type": "execute_result",
          "data": {
            "text/plain": [
              "(1429481, 15)"
            ]
          },
          "metadata": {},
          "execution_count": 33
        }
      ]
    },
    {
      "cell_type": "code",
      "metadata": {
        "colab": {
          "base_uri": "https://localhost:8080/"
        },
        "id": "grMnQSukNSwT",
        "outputId": "84c53377-1aa8-4bb4-e3e4-263e34c4d032"
      },
      "source": [
        "y_train"
      ],
      "execution_count": null,
      "outputs": [
        {
          "output_type": "execute_result",
          "data": {
            "text/plain": [
              "486281      Slight\n",
              "1913499     Slight\n",
              "642673      Slight\n",
              "594218      Slight\n",
              "1059915     Slight\n",
              "            ...   \n",
              "1302048     Slight\n",
              "1959994     Slight\n",
              "976599      Slight\n",
              "1415804     Slight\n",
              "269023     Serious\n",
              "Name: Accident_Severity, Length: 1429481, dtype: category\n",
              "Categories (3, object): ['Fatal', 'Serious', 'Slight']"
            ]
          },
          "metadata": {},
          "execution_count": 34
        }
      ]
    },
    {
      "cell_type": "code",
      "metadata": {
        "id": "jwouBMFKNWmi"
      },
      "source": [
        "from sklearn.ensemble import AdaBoostClassifier"
      ],
      "execution_count": null,
      "outputs": []
    },
    {
      "cell_type": "code",
      "metadata": {
        "colab": {
          "base_uri": "https://localhost:8080/"
        },
        "id": "In7bD5N9Pf93",
        "outputId": "749ae2c1-172a-4e76-d696-c26b7a65bf52"
      },
      "source": [
        "model = AdaBoostClassifier(n_estimators=100, random_state=0)\n",
        "model.fit(X_train, y_train)"
      ],
      "execution_count": null,
      "outputs": [
        {
          "output_type": "execute_result",
          "data": {
            "text/plain": [
              "AdaBoostClassifier(n_estimators=100, random_state=0)"
            ]
          },
          "metadata": {},
          "execution_count": 36
        }
      ]
    },
    {
      "cell_type": "code",
      "metadata": {
        "id": "nrTz22XbPzo9"
      },
      "source": [
        "pred = model.predict(X_test)"
      ],
      "execution_count": null,
      "outputs": []
    },
    {
      "cell_type": "code",
      "metadata": {
        "id": "28ZD8qZmUJ6j"
      },
      "source": [
        "from sklearn.metrics import classification_report"
      ],
      "execution_count": null,
      "outputs": []
    },
    {
      "cell_type": "code",
      "metadata": {
        "id": "rydxMPhvUPGO"
      },
      "source": [
        "report = classification_report(y_test, pred)"
      ],
      "execution_count": null,
      "outputs": []
    },
    {
      "cell_type": "code",
      "metadata": {
        "colab": {
          "base_uri": "https://localhost:8080/"
        },
        "id": "c1WMLJXZUSu7",
        "outputId": "65524c3b-06f5-4c5b-8f2b-b00c8801efc4"
      },
      "source": [
        "print(\"\\t\\t  Adaboost Classifier\\n\", report)"
      ],
      "execution_count": null,
      "outputs": [
        {
          "output_type": "stream",
          "name": "stdout",
          "text": [
            "\t\t  Adaboost Classifier\n",
            "               precision    recall  f1-score   support\n",
            "\n",
            "       Fatal       0.31      0.01      0.01      2063\n",
            "     Serious       0.47      0.01      0.02     19924\n",
            "      Slight       0.86      1.00      0.93    136845\n",
            "\n",
            "    accuracy                           0.86    158832\n",
            "   macro avg       0.55      0.34      0.32    158832\n",
            "weighted avg       0.81      0.86      0.80    158832\n",
            "\n"
          ]
        }
      ]
    },
    {
      "cell_type": "markdown",
      "metadata": {
        "id": "unu9P9BDzBc1"
      },
      "source": [
        "Adaboost with SMOTE"
      ]
    },
    {
      "cell_type": "code",
      "metadata": {
        "id": "c33IwWcEUYl6"
      },
      "source": [
        "X_resampled, y_resampled = SMOTE().fit_resample(X_train, y_train)\n",
        "X_train, X_test, y_train, y_test = train_test_split(X_resampled, y_resampled, test_size=0.2, random_state=1, stratify = y_resampled)"
      ],
      "execution_count": null,
      "outputs": []
    },
    {
      "cell_type": "code",
      "metadata": {
        "colab": {
          "base_uri": "https://localhost:8080/"
        },
        "id": "OCd8I5f7qFV0",
        "outputId": "828eb099-e07e-4517-ce71-ba8de4380c2a"
      },
      "source": [
        "print(\"Before\")\n",
        "print(y.value_counts())\n",
        "print(\"After\")\n",
        "print(pd.Series(y_resampled).value_counts())"
      ],
      "execution_count": null,
      "outputs": [
        {
          "output_type": "stream",
          "name": "stdout",
          "text": [
            "Before\n",
            "Slight     1368445\n",
            "Serious     199235\n",
            "Fatal        20633\n",
            "Name: Accident_Severity, dtype: int64\n",
            "After\n",
            "Slight     1231600\n",
            "Serious    1231600\n",
            "Fatal      1231600\n",
            "Name: Accident_Severity, dtype: int64\n"
          ]
        }
      ]
    },
    {
      "cell_type": "code",
      "metadata": {
        "colab": {
          "base_uri": "https://localhost:8080/"
        },
        "id": "h77g6PDJqHzM",
        "outputId": "61314a3a-5080-4fbe-91d2-a296571853c9"
      },
      "source": [
        "model = AdaBoostClassifier(n_estimators=100, random_state=0)\n",
        "model.fit(X_train, y_train)"
      ],
      "execution_count": null,
      "outputs": [
        {
          "output_type": "execute_result",
          "data": {
            "text/plain": [
              "AdaBoostClassifier(n_estimators=100, random_state=0)"
            ]
          },
          "metadata": {},
          "execution_count": 43
        }
      ]
    },
    {
      "cell_type": "code",
      "metadata": {
        "id": "9J4LtBRzqLkk"
      },
      "source": [
        "pred = model.predict(X_test)\n",
        "report = classification_report(y_test, pred)"
      ],
      "execution_count": null,
      "outputs": []
    },
    {
      "cell_type": "code",
      "metadata": {
        "colab": {
          "base_uri": "https://localhost:8080/"
        },
        "id": "9thwqRHvqQRF",
        "outputId": "d92d7a82-1447-47a0-87f6-19fcdd426f0d"
      },
      "source": [
        "print(\"\\t\\t  Adaboost Classifier with SMOTE\\n\", report)"
      ],
      "execution_count": null,
      "outputs": [
        {
          "output_type": "stream",
          "name": "stdout",
          "text": [
            "\t\t  Adaboost Classifier with SMOTE\n",
            "               precision    recall  f1-score   support\n",
            "\n",
            "       Fatal       0.70      0.73      0.71    246320\n",
            "     Serious       0.60      0.50      0.55    246320\n",
            "      Slight       0.79      0.88      0.84    246320\n",
            "\n",
            "    accuracy                           0.71    738960\n",
            "   macro avg       0.70      0.71      0.70    738960\n",
            "weighted avg       0.70      0.71      0.70    738960\n",
            "\n"
          ]
        }
      ]
    },
    {
      "cell_type": "markdown",
      "metadata": {
        "id": "xU8wAKRpLu9x"
      },
      "source": [
        "# Hyperparameter tuning"
      ]
    },
    {
      "cell_type": "code",
      "metadata": {
        "id": "Yui4adNNP6gX",
        "colab": {
          "base_uri": "https://localhost:8080/"
        },
        "outputId": "e8bf7e47-1667-4dc7-ab5b-7e63c5ffbe02"
      },
      "source": [
        "'''from sklearn.tree import DecisionTreeClassifier\n",
        "from sklearn.model_selection import GridSearchCV'''"
      ],
      "execution_count": null,
      "outputs": [
        {
          "output_type": "execute_result",
          "data": {
            "application/vnd.google.colaboratory.intrinsic+json": {
              "type": "string"
            },
            "text/plain": [
              "'from sklearn.tree import DecisionTreeClassifier\\nfrom sklearn.model_selection import GridSearchCV'"
            ]
          },
          "metadata": {},
          "execution_count": 46
        }
      ]
    },
    {
      "cell_type": "code",
      "metadata": {
        "id": "x0CruCXXLxWJ",
        "colab": {
          "base_uri": "https://localhost:8080/"
        },
        "outputId": "773a0d93-416d-4dec-9dc1-8cef4824a0a1"
      },
      "source": [
        "'''parameters = {\n",
        "    \"n_estimators\":np.arange(70, 140, 10),\n",
        "    \"learning_rate\":np.arange(0.8,1.2,0.05),\n",
        "    \"algorithm\":[\"SAMME\", \"SAMME.R\"],\n",
        "    \"base_estimator\":[\n",
        "        DecisionTreeClassifier(max_depth=1),\n",
        "        DecisionTreeClassifier(max_depth=2),\n",
        "        DecisionTreeClassifier(max_depth=3),\n",
        "        DecisionTreeClassifier(max_depth=None)\n",
        "    ]\n",
        "}\n",
        "scores = [\"f1\", \"balanced_accuracy\"]\n",
        "\n",
        "classifier = GridSearchCV(\n",
        "    AdaBoostClassifier(random_state=0),\n",
        "    param_grid=parameters,\n",
        "    scoring=scores,\n",
        "    refit=\"f1\",\n",
        "    verbose=1,\n",
        "    n_jobs=-1\n",
        ")\n",
        "\n",
        "classifier.fit(X_train, y_train)\n",
        "'''"
      ],
      "execution_count": null,
      "outputs": [
        {
          "output_type": "execute_result",
          "data": {
            "application/vnd.google.colaboratory.intrinsic+json": {
              "type": "string"
            },
            "text/plain": [
              "'parameters = {\\n    \"n_estimators\":np.arange(70, 140, 10),\\n    \"learning_rate\":np.arange(0.8,1.2,0.05),\\n    \"algorithm\":[\"SAMME\", \"SAMME.R\"],\\n    \"base_estimator\":[\\n        DecisionTreeClassifier(max_depth=1),\\n        DecisionTreeClassifier(max_depth=2),\\n        DecisionTreeClassifier(max_depth=3),\\n        DecisionTreeClassifier(max_depth=None)\\n    ]\\n}\\nscores = [\"f1\", \"balanced_accuracy\"]\\n\\nclassifier = GridSearchCV(\\n    AdaBoostClassifier(random_state=0),\\n    param_grid=parameters,\\n    scoring=scores,\\n    refit=\"f1\",\\n    verbose=1,\\n    n_jobs=-1\\n)\\n\\nclassifier.fit(X_train, y_train)\\n'"
            ]
          },
          "metadata": {},
          "execution_count": 47
        }
      ]
    }
  ]
}